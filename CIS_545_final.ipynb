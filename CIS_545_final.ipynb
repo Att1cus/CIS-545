{
  "nbformat": 4,
  "nbformat_minor": 0,
  "metadata": {
    "colab": {
      "name": "CIS 545 final.ipynb",
      "provenance": [],
      "collapsed_sections": []
    },
    "kernelspec": {
      "name": "python3",
      "display_name": "Python 3"
    },
    "language_info": {
      "name": "python"
    }
  },
  "cells": [
    {
      "cell_type": "markdown",
      "metadata": {
        "id": "JlQ1kMJd3dx-"
      },
      "source": [
        "### **Group members: Xuanyang Wang, Bowen Tan**\n",
        "\n",
        "## **Introduction**\n",
        "\n",
        "###*Background*\n",
        "This spring, a small discussion group in Reddit called WallStreetBets invoked great impact on the stock market. The entire market was shocked by the prediction and operations on certain stocks like GME and AMC led by some users within this discussion group. We therefore decided to use data analysis skill to find out what do they talk about in their discussions.\n",
        "\n",
        "###*Project Goal*\n",
        "In this project, we are trying to look at the data set that contains posts from Wall Street Bets. We are aiming to find out the reason behind high-score and high-comment posts, and find out trend of posts within the group. We also want to train models that help predict what kind of posts would users in this group most likely to view.\n",
        "\n",
        "###*Data set*\n",
        "We found two separate datasets on kaggle that contain the posts from r/wallstreetbets. The larger one is 200MB, the smaller one is 30MB. We are mainly studying the smaller data set in the following EDA."
      ]
    },
    {
      "cell_type": "code",
      "metadata": {
        "colab": {
          "base_uri": "https://localhost:8080/"
        },
        "id": "VUSQu18OXFpo",
        "outputId": "4fff38fa-c10b-4cab-d9c0-c3e938574689"
      },
      "source": [
        "import os\n",
        "from google.colab import drive\n",
        "\n",
        "# Mount google drive\n",
        "DRIVE_MOUNT='/content/gdrive'\n",
        "drive.mount(DRIVE_MOUNT, force_remount=True)\n",
        "\n",
        "# create folder to write data to\n",
        "CIS545_FOLDER=os.path.join(DRIVE_MOUNT, 'My Drive', 'CIS545_2021')\n",
        "FOLDER=os.path.join(CIS545_FOLDER, 'final')\n",
        "os.makedirs(FOLDER, exist_ok=True)\n",
        "\n",
        "import warnings\n",
        "warnings.filterwarnings(\"ignore\")"
      ],
      "execution_count": 38,
      "outputs": [
        {
          "output_type": "stream",
          "text": [
            "Mounted at /content/gdrive\n"
          ],
          "name": "stdout"
        }
      ]
    },
    {
      "cell_type": "code",
      "metadata": {
        "id": "ea04x5TRZ0rS",
        "colab": {
          "base_uri": "https://localhost:8080/"
        },
        "outputId": "72db62bc-7c18-4743-f113-b79b83fc6d1d"
      },
      "source": [
        "! pip install -q kaggle\n",
        "! mkdir ~/.kaggle\n",
        "! cp /content/gdrive/MyDrive/CIS545_2021/final/kaggle.json ~/.kaggle/\n",
        "! chmod 600 ~/.kaggle/kaggle.json"
      ],
      "execution_count": 39,
      "outputs": [
        {
          "output_type": "stream",
          "text": [
            "mkdir: cannot create directory ‘/root/.kaggle’: File exists\n",
            "cp: cannot stat '/content/gdrive/MyDrive/CIS545_2021/final/kaggle.json': No such file or directory\n",
            "chmod: cannot access '/root/.kaggle/kaggle.json': No such file or directory\n"
          ],
          "name": "stdout"
        }
      ]
    },
    {
      "cell_type": "code",
      "metadata": {
        "id": "IqtZ7rJvaQYo"
      },
      "source": [
        "# ! kaggle datasets list"
      ],
      "execution_count": null,
      "outputs": []
    },
    {
      "cell_type": "code",
      "metadata": {
        "id": "Ipn8ZBi6Xqsk"
      },
      "source": [
        "# !kaggle datasets download -d unanimad/reddit-rwallstreetbets -p /content/gdrive/MyDrive/CIS545_2021/final\n",
        "# !kaggle datasets download -d gpreda/reddit-wallstreetsbets-posts -p /content/gdrive/MyDrive/CIS545_2021/final\n",
        "\n",
        "# !unzip /content/gdrive/MyDrive/CIS545_2021/final/reddit-rwallstreetbets.zip -d /content/gdrive/MyDrive/CIS545_2021/final/data_1\n",
        "# !unzip /content/gdrive/MyDrive/CIS545_2021/final/reddit-wallstreetsbets-posts.zip -d /content/gdrive/MyDrive/CIS545_2021/final/data_2"
      ],
      "execution_count": null,
      "outputs": []
    },
    {
      "cell_type": "code",
      "metadata": {
        "id": "HrlYAh70cHMP"
      },
      "source": [
        "import pandas as pd\n",
        "\n",
        "data_1_df = pd.read_csv('/content/gdrive/MyDrive/CIS545_2021/final/data_1/r_wallstreetbets_posts.csv')#bigger \n",
        "data_2_df = pd.read_csv('/content/gdrive/MyDrive/CIS545_2021/final/data_2/reddit_wsb.csv')# smaller"
      ],
      "execution_count": 40,
      "outputs": []
    },
    {
      "cell_type": "code",
      "metadata": {
        "colab": {
          "base_uri": "https://localhost:8080/"
        },
        "id": "HRSYx3uNNyl4",
        "outputId": "b881f3e0-6179-47eb-ccf3-ec294dcb5ddb"
      },
      "source": [
        "!pip install pandasql\n",
        "\n",
        "import pandasql as ps\n",
        "import nltk"
      ],
      "execution_count": 41,
      "outputs": [
        {
          "output_type": "stream",
          "text": [
            "Requirement already satisfied: pandasql in /usr/local/lib/python3.7/dist-packages (0.7.3)\n",
            "Requirement already satisfied: sqlalchemy in /usr/local/lib/python3.7/dist-packages (from pandasql) (1.4.7)\n",
            "Requirement already satisfied: numpy in /usr/local/lib/python3.7/dist-packages (from pandasql) (1.19.5)\n",
            "Requirement already satisfied: pandas in /usr/local/lib/python3.7/dist-packages (from pandasql) (1.1.5)\n",
            "Requirement already satisfied: importlib-metadata; python_version < \"3.8\" in /usr/local/lib/python3.7/dist-packages (from sqlalchemy->pandasql) (3.10.1)\n",
            "Requirement already satisfied: greenlet!=0.4.17; python_version >= \"3\" in /usr/local/lib/python3.7/dist-packages (from sqlalchemy->pandasql) (1.0.0)\n",
            "Requirement already satisfied: python-dateutil>=2.7.3 in /usr/local/lib/python3.7/dist-packages (from pandas->pandasql) (2.8.1)\n",
            "Requirement already satisfied: pytz>=2017.2 in /usr/local/lib/python3.7/dist-packages (from pandas->pandasql) (2018.9)\n",
            "Requirement already satisfied: zipp>=0.5 in /usr/local/lib/python3.7/dist-packages (from importlib-metadata; python_version < \"3.8\"->sqlalchemy->pandasql) (3.4.1)\n",
            "Requirement already satisfied: typing-extensions>=3.6.4; python_version < \"3.8\" in /usr/local/lib/python3.7/dist-packages (from importlib-metadata; python_version < \"3.8\"->sqlalchemy->pandasql) (3.7.4.3)\n",
            "Requirement already satisfied: six>=1.5 in /usr/local/lib/python3.7/dist-packages (from python-dateutil>=2.7.3->pandas->pandasql) (1.15.0)\n"
          ],
          "name": "stdout"
        }
      ]
    },
    {
      "cell_type": "code",
      "metadata": {
        "id": "3bb1PbxlOOqv",
        "colab": {
          "base_uri": "https://localhost:8080/",
          "height": 419
        },
        "outputId": "0bb4d414-97f9-4cc0-99a8-fd8d4ca5a516"
      },
      "source": [
        "query = '''\n",
        "SELECT * FROM data_2_df\n",
        "WHERE\n",
        "title IS NOT NULL\n",
        "AND\n",
        "score IS NOT NULL\n",
        "AND\n",
        "id IS NOT NULL\n",
        "AND\n",
        "comms_num IS NOT NULL\n",
        "AND\n",
        "created IS NOT NULL\n",
        "AND\n",
        "timestamp IS NOT NULL\n",
        "'''\n",
        "\n",
        "data_2_clean = ps.sqldf(query, locals())\n",
        "\n",
        "data_2_clean"
      ],
      "execution_count": 42,
      "outputs": [
        {
          "output_type": "execute_result",
          "data": {
            "text/html": [
              "<div>\n",
              "<style scoped>\n",
              "    .dataframe tbody tr th:only-of-type {\n",
              "        vertical-align: middle;\n",
              "    }\n",
              "\n",
              "    .dataframe tbody tr th {\n",
              "        vertical-align: top;\n",
              "    }\n",
              "\n",
              "    .dataframe thead th {\n",
              "        text-align: right;\n",
              "    }\n",
              "</style>\n",
              "<table border=\"1\" class=\"dataframe\">\n",
              "  <thead>\n",
              "    <tr style=\"text-align: right;\">\n",
              "      <th></th>\n",
              "      <th>title</th>\n",
              "      <th>score</th>\n",
              "      <th>id</th>\n",
              "      <th>url</th>\n",
              "      <th>comms_num</th>\n",
              "      <th>created</th>\n",
              "      <th>body</th>\n",
              "      <th>timestamp</th>\n",
              "    </tr>\n",
              "  </thead>\n",
              "  <tbody>\n",
              "    <tr>\n",
              "      <th>0</th>\n",
              "      <td>It's not about the money, it's about sending a...</td>\n",
              "      <td>55</td>\n",
              "      <td>l6ulcx</td>\n",
              "      <td>https://v.redd.it/6j75regs72e61</td>\n",
              "      <td>6</td>\n",
              "      <td>1.611863e+09</td>\n",
              "      <td>None</td>\n",
              "      <td>2021-01-28 21:37:41</td>\n",
              "    </tr>\n",
              "    <tr>\n",
              "      <th>1</th>\n",
              "      <td>Math Professor Scott Steiner says the numbers ...</td>\n",
              "      <td>110</td>\n",
              "      <td>l6uibd</td>\n",
              "      <td>https://v.redd.it/ah50lyny62e61</td>\n",
              "      <td>23</td>\n",
              "      <td>1.611862e+09</td>\n",
              "      <td>None</td>\n",
              "      <td>2021-01-28 21:32:10</td>\n",
              "    </tr>\n",
              "    <tr>\n",
              "      <th>2</th>\n",
              "      <td>Exit the system</td>\n",
              "      <td>0</td>\n",
              "      <td>l6uhhn</td>\n",
              "      <td>https://www.reddit.com/r/wallstreetbets/commen...</td>\n",
              "      <td>47</td>\n",
              "      <td>1.611862e+09</td>\n",
              "      <td>The CEO of NASDAQ pushed to halt trading “to g...</td>\n",
              "      <td>2021-01-28 21:30:35</td>\n",
              "    </tr>\n",
              "    <tr>\n",
              "      <th>3</th>\n",
              "      <td>NEW SEC FILING FOR GME! CAN SOMEONE LESS RETAR...</td>\n",
              "      <td>29</td>\n",
              "      <td>l6ugk6</td>\n",
              "      <td>https://sec.report/Document/0001193125-21-019848/</td>\n",
              "      <td>74</td>\n",
              "      <td>1.611862e+09</td>\n",
              "      <td>None</td>\n",
              "      <td>2021-01-28 21:28:57</td>\n",
              "    </tr>\n",
              "    <tr>\n",
              "      <th>4</th>\n",
              "      <td>Not to distract from GME, just thought our AMC...</td>\n",
              "      <td>71</td>\n",
              "      <td>l6ufgy</td>\n",
              "      <td>https://i.redd.it/4h2sukb662e61.jpg</td>\n",
              "      <td>156</td>\n",
              "      <td>1.611862e+09</td>\n",
              "      <td>None</td>\n",
              "      <td>2021-01-28 21:26:56</td>\n",
              "    </tr>\n",
              "    <tr>\n",
              "      <th>...</th>\n",
              "      <td>...</td>\n",
              "      <td>...</td>\n",
              "      <td>...</td>\n",
              "      <td>...</td>\n",
              "      <td>...</td>\n",
              "      <td>...</td>\n",
              "      <td>...</td>\n",
              "      <td>...</td>\n",
              "    </tr>\n",
              "    <tr>\n",
              "      <th>45418</th>\n",
              "      <td>$ERIC, your wife's new boyfriend</td>\n",
              "      <td>49</td>\n",
              "      <td>mpdlqm</td>\n",
              "      <td>https://www.reddit.com/r/wallstreetbets/commen...</td>\n",
              "      <td>29</td>\n",
              "      <td>1.618262e+09</td>\n",
              "      <td># \\n\\n5G is the next market to be in, 5G got p...</td>\n",
              "      <td>2021-04-13 00:15:06</td>\n",
              "    </tr>\n",
              "    <tr>\n",
              "      <th>45419</th>\n",
              "      <td>Where are all these people now?</td>\n",
              "      <td>108</td>\n",
              "      <td>mpdq3f</td>\n",
              "      <td>https://www.reddit.com/gallery/mpdq3f</td>\n",
              "      <td>28</td>\n",
              "      <td>1.618263e+09</td>\n",
              "      <td>None</td>\n",
              "      <td>2021-04-13 00:21:51</td>\n",
              "    </tr>\n",
              "    <tr>\n",
              "      <th>45420</th>\n",
              "      <td>WSB Rules - Please Read Before Posting</td>\n",
              "      <td>193</td>\n",
              "      <td>mpdluv</td>\n",
              "      <td>https://www.reddit.com/r/wallstreetbets/commen...</td>\n",
              "      <td>36</td>\n",
              "      <td>1.618262e+09</td>\n",
              "      <td># Welcome to WSB!\\n\\n\\---\\n\\nAdditional readin...</td>\n",
              "      <td>2021-04-13 00:15:17</td>\n",
              "    </tr>\n",
              "    <tr>\n",
              "      <th>45421</th>\n",
              "      <td>the 'Buffett Indicator' is Flashing again...Sh...</td>\n",
              "      <td>521</td>\n",
              "      <td>mpd8c2</td>\n",
              "      <td>https://www.reddit.com/r/wallstreetbets/commen...</td>\n",
              "      <td>331</td>\n",
              "      <td>1.618261e+09</td>\n",
              "      <td>(This text is lifted from Yahoo's Mile Udland....</td>\n",
              "      <td>2021-04-12 23:54:14</td>\n",
              "    </tr>\n",
              "    <tr>\n",
              "      <th>45422</th>\n",
              "      <td>The Government of Canada Selects BlackBerry fo...</td>\n",
              "      <td>3042</td>\n",
              "      <td>mpd5t9</td>\n",
              "      <td>https://www.blackberry.com/us/en/company/newsr...</td>\n",
              "      <td>189</td>\n",
              "      <td>1.618261e+09</td>\n",
              "      <td>None</td>\n",
              "      <td>2021-04-12 23:50:10</td>\n",
              "    </tr>\n",
              "  </tbody>\n",
              "</table>\n",
              "<p>45423 rows × 8 columns</p>\n",
              "</div>"
            ],
            "text/plain": [
              "                                                   title  ...            timestamp\n",
              "0      It's not about the money, it's about sending a...  ...  2021-01-28 21:37:41\n",
              "1      Math Professor Scott Steiner says the numbers ...  ...  2021-01-28 21:32:10\n",
              "2                                        Exit the system  ...  2021-01-28 21:30:35\n",
              "3      NEW SEC FILING FOR GME! CAN SOMEONE LESS RETAR...  ...  2021-01-28 21:28:57\n",
              "4      Not to distract from GME, just thought our AMC...  ...  2021-01-28 21:26:56\n",
              "...                                                  ...  ...                  ...\n",
              "45418                   $ERIC, your wife's new boyfriend  ...  2021-04-13 00:15:06\n",
              "45419                    Where are all these people now?  ...  2021-04-13 00:21:51\n",
              "45420             WSB Rules - Please Read Before Posting  ...  2021-04-13 00:15:17\n",
              "45421  the 'Buffett Indicator' is Flashing again...Sh...  ...  2021-04-12 23:54:14\n",
              "45422  The Government of Canada Selects BlackBerry fo...  ...  2021-04-12 23:50:10\n",
              "\n",
              "[45423 rows x 8 columns]"
            ]
          },
          "metadata": {
            "tags": []
          },
          "execution_count": 42
        }
      ]
    },
    {
      "cell_type": "markdown",
      "metadata": {
        "id": "bQAaAew3i91E"
      },
      "source": [
        "## **EDA**\n",
        "\n",
        "###**Data Set 2**\n",
        "\n",
        "In this dataset, we noticed that even though it contains the 'body' of each posts, more than 50% of the body is just invalid as shown in the picture below:\n",
        "\n",
        "![bd_col.PNG](data:image/png;base64,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)\n",
        "\n",
        "We therefore decide to change the 'body' column as binary value (has body or not) and mainly use the title column to identify the content within the post."
      ]
    },
    {
      "cell_type": "code",
      "metadata": {
        "colab": {
          "base_uri": "https://localhost:8080/"
        },
        "id": "N2GgtjP4Quh7",
        "outputId": "26e4d08d-6410-456b-d805-1452f0732088"
      },
      "source": [
        "#Change body to 'have_body'\n",
        "\n",
        "print(data_2_clean['body'])\n",
        "\n",
        "def to_binary(input):\n",
        "  if input is None:\n",
        "    return 0\n",
        "  else:\n",
        "    return 1\n",
        "\n",
        "data_2_clean['have_body'] = data_2_clean['body'].apply(to_binary)"
      ],
      "execution_count": 43,
      "outputs": [
        {
          "output_type": "stream",
          "text": [
            "0                                                     None\n",
            "1                                                     None\n",
            "2        The CEO of NASDAQ pushed to halt trading “to g...\n",
            "3                                                     None\n",
            "4                                                     None\n",
            "                               ...                        \n",
            "45418    # \\n\\n5G is the next market to be in, 5G got p...\n",
            "45419                                                 None\n",
            "45420    # Welcome to WSB!\\n\\n\\---\\n\\nAdditional readin...\n",
            "45421    (This text is lifted from Yahoo's Mile Udland....\n",
            "45422                                                 None\n",
            "Name: body, Length: 45423, dtype: object\n"
          ],
          "name": "stdout"
        }
      ]
    },
    {
      "cell_type": "markdown",
      "metadata": {
        "id": "jO98eqrck_Im"
      },
      "source": [
        "We first convert the timestamp into month and year. As we can see, all the posts from data set 1 are from 2021 between end of January and mid April. "
      ]
    },
    {
      "cell_type": "code",
      "metadata": {
        "colab": {
          "base_uri": "https://localhost:8080/",
          "height": 419
        },
        "id": "ehB35l2xlASN",
        "outputId": "2b795c89-1e67-40e3-c7ec-06b23a2355e0"
      },
      "source": [
        "data_2_clean['datetime'] = pd.to_datetime(data_2_clean['timestamp'])\n",
        "data_2_clean['year'] = data_2_clean['datetime'].dt.year\n",
        "data_2_clean['month'] = data_2_clean['datetime'].dt.month_name()\n",
        "data_2_clean['day'] = data_2_clean['datetime'].dt.day\n",
        "data_2_clean = data_2_clean.drop(columns=['timestamp', 'body', 'url'])\n",
        "data_2_clean"
      ],
      "execution_count": 48,
      "outputs": [
        {
          "output_type": "execute_result",
          "data": {
            "text/html": [
              "<div>\n",
              "<style scoped>\n",
              "    .dataframe tbody tr th:only-of-type {\n",
              "        vertical-align: middle;\n",
              "    }\n",
              "\n",
              "    .dataframe tbody tr th {\n",
              "        vertical-align: top;\n",
              "    }\n",
              "\n",
              "    .dataframe thead th {\n",
              "        text-align: right;\n",
              "    }\n",
              "</style>\n",
              "<table border=\"1\" class=\"dataframe\">\n",
              "  <thead>\n",
              "    <tr style=\"text-align: right;\">\n",
              "      <th></th>\n",
              "      <th>title</th>\n",
              "      <th>score</th>\n",
              "      <th>id</th>\n",
              "      <th>comms_num</th>\n",
              "      <th>created</th>\n",
              "      <th>have_body</th>\n",
              "      <th>datetime</th>\n",
              "      <th>year</th>\n",
              "      <th>month</th>\n",
              "      <th>day</th>\n",
              "    </tr>\n",
              "  </thead>\n",
              "  <tbody>\n",
              "    <tr>\n",
              "      <th>0</th>\n",
              "      <td>It's not about the money, it's about sending a...</td>\n",
              "      <td>55</td>\n",
              "      <td>l6ulcx</td>\n",
              "      <td>6</td>\n",
              "      <td>1.611863e+09</td>\n",
              "      <td>0</td>\n",
              "      <td>2021-01-28 21:37:41</td>\n",
              "      <td>2021</td>\n",
              "      <td>January</td>\n",
              "      <td>28</td>\n",
              "    </tr>\n",
              "    <tr>\n",
              "      <th>1</th>\n",
              "      <td>Math Professor Scott Steiner says the numbers ...</td>\n",
              "      <td>110</td>\n",
              "      <td>l6uibd</td>\n",
              "      <td>23</td>\n",
              "      <td>1.611862e+09</td>\n",
              "      <td>0</td>\n",
              "      <td>2021-01-28 21:32:10</td>\n",
              "      <td>2021</td>\n",
              "      <td>January</td>\n",
              "      <td>28</td>\n",
              "    </tr>\n",
              "    <tr>\n",
              "      <th>2</th>\n",
              "      <td>Exit the system</td>\n",
              "      <td>0</td>\n",
              "      <td>l6uhhn</td>\n",
              "      <td>47</td>\n",
              "      <td>1.611862e+09</td>\n",
              "      <td>1</td>\n",
              "      <td>2021-01-28 21:30:35</td>\n",
              "      <td>2021</td>\n",
              "      <td>January</td>\n",
              "      <td>28</td>\n",
              "    </tr>\n",
              "    <tr>\n",
              "      <th>3</th>\n",
              "      <td>NEW SEC FILING FOR GME! CAN SOMEONE LESS RETAR...</td>\n",
              "      <td>29</td>\n",
              "      <td>l6ugk6</td>\n",
              "      <td>74</td>\n",
              "      <td>1.611862e+09</td>\n",
              "      <td>0</td>\n",
              "      <td>2021-01-28 21:28:57</td>\n",
              "      <td>2021</td>\n",
              "      <td>January</td>\n",
              "      <td>28</td>\n",
              "    </tr>\n",
              "    <tr>\n",
              "      <th>4</th>\n",
              "      <td>Not to distract from GME, just thought our AMC...</td>\n",
              "      <td>71</td>\n",
              "      <td>l6ufgy</td>\n",
              "      <td>156</td>\n",
              "      <td>1.611862e+09</td>\n",
              "      <td>0</td>\n",
              "      <td>2021-01-28 21:26:56</td>\n",
              "      <td>2021</td>\n",
              "      <td>January</td>\n",
              "      <td>28</td>\n",
              "    </tr>\n",
              "    <tr>\n",
              "      <th>...</th>\n",
              "      <td>...</td>\n",
              "      <td>...</td>\n",
              "      <td>...</td>\n",
              "      <td>...</td>\n",
              "      <td>...</td>\n",
              "      <td>...</td>\n",
              "      <td>...</td>\n",
              "      <td>...</td>\n",
              "      <td>...</td>\n",
              "      <td>...</td>\n",
              "    </tr>\n",
              "    <tr>\n",
              "      <th>45418</th>\n",
              "      <td>$ERIC, your wife's new boyfriend</td>\n",
              "      <td>49</td>\n",
              "      <td>mpdlqm</td>\n",
              "      <td>29</td>\n",
              "      <td>1.618262e+09</td>\n",
              "      <td>1</td>\n",
              "      <td>2021-04-13 00:15:06</td>\n",
              "      <td>2021</td>\n",
              "      <td>April</td>\n",
              "      <td>13</td>\n",
              "    </tr>\n",
              "    <tr>\n",
              "      <th>45419</th>\n",
              "      <td>Where are all these people now?</td>\n",
              "      <td>108</td>\n",
              "      <td>mpdq3f</td>\n",
              "      <td>28</td>\n",
              "      <td>1.618263e+09</td>\n",
              "      <td>0</td>\n",
              "      <td>2021-04-13 00:21:51</td>\n",
              "      <td>2021</td>\n",
              "      <td>April</td>\n",
              "      <td>13</td>\n",
              "    </tr>\n",
              "    <tr>\n",
              "      <th>45420</th>\n",
              "      <td>WSB Rules - Please Read Before Posting</td>\n",
              "      <td>193</td>\n",
              "      <td>mpdluv</td>\n",
              "      <td>36</td>\n",
              "      <td>1.618262e+09</td>\n",
              "      <td>1</td>\n",
              "      <td>2021-04-13 00:15:17</td>\n",
              "      <td>2021</td>\n",
              "      <td>April</td>\n",
              "      <td>13</td>\n",
              "    </tr>\n",
              "    <tr>\n",
              "      <th>45421</th>\n",
              "      <td>the 'Buffett Indicator' is Flashing again...Sh...</td>\n",
              "      <td>521</td>\n",
              "      <td>mpd8c2</td>\n",
              "      <td>331</td>\n",
              "      <td>1.618261e+09</td>\n",
              "      <td>1</td>\n",
              "      <td>2021-04-12 23:54:14</td>\n",
              "      <td>2021</td>\n",
              "      <td>April</td>\n",
              "      <td>12</td>\n",
              "    </tr>\n",
              "    <tr>\n",
              "      <th>45422</th>\n",
              "      <td>The Government of Canada Selects BlackBerry fo...</td>\n",
              "      <td>3042</td>\n",
              "      <td>mpd5t9</td>\n",
              "      <td>189</td>\n",
              "      <td>1.618261e+09</td>\n",
              "      <td>0</td>\n",
              "      <td>2021-04-12 23:50:10</td>\n",
              "      <td>2021</td>\n",
              "      <td>April</td>\n",
              "      <td>12</td>\n",
              "    </tr>\n",
              "  </tbody>\n",
              "</table>\n",
              "<p>45423 rows × 10 columns</p>\n",
              "</div>"
            ],
            "text/plain": [
              "                                                   title  score  ...    month  day\n",
              "0      It's not about the money, it's about sending a...     55  ...  January   28\n",
              "1      Math Professor Scott Steiner says the numbers ...    110  ...  January   28\n",
              "2                                        Exit the system      0  ...  January   28\n",
              "3      NEW SEC FILING FOR GME! CAN SOMEONE LESS RETAR...     29  ...  January   28\n",
              "4      Not to distract from GME, just thought our AMC...     71  ...  January   28\n",
              "...                                                  ...    ...  ...      ...  ...\n",
              "45418                   $ERIC, your wife's new boyfriend     49  ...    April   13\n",
              "45419                    Where are all these people now?    108  ...    April   13\n",
              "45420             WSB Rules - Please Read Before Posting    193  ...    April   13\n",
              "45421  the 'Buffett Indicator' is Flashing again...Sh...    521  ...    April   12\n",
              "45422  The Government of Canada Selects BlackBerry fo...   3042  ...    April   12\n",
              "\n",
              "[45423 rows x 10 columns]"
            ]
          },
          "metadata": {
            "tags": []
          },
          "execution_count": 48
        }
      ]
    },
    {
      "cell_type": "markdown",
      "metadata": {
        "id": "bV6j4AfGq-uN"
      },
      "source": [
        "As we plot the count of posts against the month, we found that the number of posts gradually decreases over the year, and there are some random posts from september. We therefore decide to drop those data since we are focusing on the posts in WSB between January and April."
      ]
    },
    {
      "cell_type": "code",
      "metadata": {
        "colab": {
          "base_uri": "https://localhost:8080/",
          "height": 443
        },
        "id": "tBBGGBOipHWR",
        "outputId": "480d8b7b-c3b5-4dbc-f396-32c6107a6b9f"
      },
      "source": [
        "import matplotlib\n",
        "import matplotlib.pyplot as plt\n",
        "from matplotlib import cm\n",
        "import glob\n",
        "import seaborn as sns\n",
        "data_2_clean['month'] = data_2_clean['datetime'].dt.month_name()\n",
        "plot1 = sns.catplot(data=data_2_clean, x='month', kind='count')\n",
        "plot1.set_xticklabels(rotation=90)\n",
        "plot1 = plt.title('Post Count vs Month')"
      ],
      "execution_count": 49,
      "outputs": [
        {
          "output_type": "display_data",
          "data": {
            "image/png": "[encoded data removed]",
            "text/plain": [
              "<Figure size 360x360 with 1 Axes>"
            ]
          },
          "metadata": {
            "tags": [],
            "needs_background": "light"
          }
        }
      ]
    },
    {
      "cell_type": "markdown",
      "metadata": {
        "id": "nHh5iZ-RwEUG"
      },
      "source": [
        "After we dropped the September data, we replot the Post Count against Month. It seems that January and Febuary are the month when most posts came out."
      ]
    },
    {
      "cell_type": "code",
      "metadata": {
        "colab": {
          "base_uri": "https://localhost:8080/",
          "height": 433
        },
        "id": "Gtzq_TaHvkho",
        "outputId": "fa8e5d39-af08-4480-e6b0-354447ac7355"
      },
      "source": [
        "data_2_clean = data_2_clean[data_2_clean['month'] != 'September']\n",
        "plot1 = sns.catplot(data=data_2_clean, x='month', kind='count')\n",
        "plot1.set_xticklabels(rotation=90)\n",
        "plot1 = plt.title('Post Count vs Month')"
      ],
      "execution_count": 50,
      "outputs": [
        {
          "output_type": "display_data",
          "data": {
            "image/png": "[encoded data removed]",
            "text/plain": [
              "<Figure size 360x360 with 1 Axes>"
            ]
          },
          "metadata": {
            "tags": [],
            "needs_background": "light"
          }
        }
      ]
    },
    {
      "cell_type": "markdown",
      "metadata": {
        "id": "_icCXGvfsLpj"
      },
      "source": [
        "Since the score and comment numbers are having great range as we observed from the data set above, we decided to take log scale on both the data here. After that, we plot the distribution of them and found that it is heavily headed. This is mostly likely because most of the posts does not get comments. The scores are in general higher because users tend to like/dislike a post but would only comment on really interesting/controversy ones."
      ]
    },
    {
      "cell_type": "code",
      "metadata": {
        "colab": {
          "base_uri": "https://localhost:8080/",
          "height": 265
        },
        "id": "_I8qKjNHsLyg",
        "outputId": "7ce85c13-5c7c-4f9f-e34c-c4b57d3ae362"
      },
      "source": [
        "import numpy as np\n",
        "data_2_clean['score_log'] = data_2_clean['score'].add(1).apply(np.log)\n",
        "data_2_clean['comms_log'] = data_2_clean['comms_num'].add(1).apply(np.log)\n",
        "score_log_plot = data_2_clean['score_log'].plot.kde()\n",
        "comms_log_plot = data_2_clean['comms_log'].plot.kde()"
      ],
      "execution_count": 51,
      "outputs": [
        {
          "output_type": "display_data",
          "data": {
            "image/png": "[encoded data removed]",
            "text/plain": [
              "<Figure size 432x288 with 1 Axes>"
            ]
          },
          "metadata": {
            "tags": [],
            "needs_background": "light"
          }
        }
      ]
    },
    {
      "cell_type": "markdown",
      "metadata": {
        "id": "YgvhEuKB1qS-"
      },
      "source": [
        "Then, we plotted the score_log and comms_log verses the month as box plots. As we can observe, the fewer the post in a month, the higher the 'quality' of those posts would be, since they tend to have higher score and number of comments on average."
      ]
    },
    {
      "cell_type": "code",
      "metadata": {
        "colab": {
          "base_uri": "https://localhost:8080/",
          "height": 295
        },
        "id": "Urnci3QmtNYY",
        "outputId": "5f204ce0-0126-4d29-ec6c-587c82bfb79b"
      },
      "source": [
        "plot2 = sns.boxplot(data=data_2_clean, x='month', y='score_log')\n",
        "plot2 = plt.title('Score_log vs Month')"
      ],
      "execution_count": 52,
      "outputs": [
        {
          "output_type": "display_data",
          "data": {
            "image/png": "[encoded data removed]",
            "text/plain": [
              "<Figure size 432x288 with 1 Axes>"
            ]
          },
          "metadata": {
            "tags": [],
            "needs_background": "light"
          }
        }
      ]
    },
    {
      "cell_type": "code",
      "metadata": {
        "colab": {
          "base_uri": "https://localhost:8080/",
          "height": 295
        },
        "id": "fqYlaXUhtk2h",
        "outputId": "806bf228-a780-4217-c266-8bd83390a4af"
      },
      "source": [
        "plot3 = sns.boxplot(data=data_2_clean, x='month', y='comms_log')\n",
        "plot3 = plt.title('Comms_log vs Month')"
      ],
      "execution_count": 53,
      "outputs": [
        {
          "output_type": "display_data",
          "data": {
            "image/png": "[encoded data removed]",
            "text/plain": [
              "<Figure size 432x288 with 1 Axes>"
            ]
          },
          "metadata": {
            "tags": [],
            "needs_background": "light"
          }
        }
      ]
    },
    {
      "cell_type": "markdown",
      "metadata": {
        "id": "-AR6OYiE2BiD"
      },
      "source": [
        "In plot4, we can see that score and number of comments are postively related in general (which would be further verified in later part), and we can see that the post with highest score was in January, and the post with most comments was in March."
      ]
    },
    {
      "cell_type": "code",
      "metadata": {
        "colab": {
          "base_uri": "https://localhost:8080/",
          "height": 384
        },
        "id": "IsdylSP5trLD",
        "outputId": "9bef384c-f708-4290-97e4-54d2e8faf0f2"
      },
      "source": [
        "plot4 = sns.relplot(x='score_log', y='comms_log', hue='month', data=data_2_clean)"
      ],
      "execution_count": 54,
      "outputs": [
        {
          "output_type": "display_data",
          "data": {
            "image/png": "[encoded data removed]",
            "text/plain": [
              "<Figure size 440.25x360 with 1 Axes>"
            ]
          },
          "metadata": {
            "tags": [],
            "needs_background": "light"
          }
        }
      ]
    },
    {
      "cell_type": "markdown",
      "metadata": {
        "id": "ZjHymWnMB_IR"
      },
      "source": [
        "We then aim to find the TOP 10 post with most mean score and comment numbers:"
      ]
    },
    {
      "cell_type": "code",
      "metadata": {
        "id": "E0rtBXO4TEHI"
      },
      "source": [
        "# Post with most awards / score\n",
        "# no author for data_2\n",
        "\n",
        "query = '''\n",
        "SELECT id, score as score, sum(comms_num) as sum_comms FROM data_2_clean\n",
        "GROUP BY id\n",
        "ORDER BY sum_comms DESC\n",
        "'''\n",
        "\n",
        "data_2_author = ps.sqldf(query, locals())"
      ],
      "execution_count": 59,
      "outputs": []
    },
    {
      "cell_type": "code",
      "metadata": {
        "colab": {
          "base_uri": "https://localhost:8080/"
        },
        "id": "6eQ5xmZ8Tkzj",
        "outputId": "cfb9bef8-a6ed-4ab2-ad32-728a4ec87f0e"
      },
      "source": [
        "#Score for Top 10 commented posts in data set 2\n",
        "print(data_2_author.head(10))"
      ],
      "execution_count": 61,
      "outputs": [
        {
          "output_type": "stream",
          "text": [
            "       id  score  sum_comms\n",
            "0  m1xhlc  47667      93268\n",
            "1  l7ptxi  12288      89050\n",
            "2  lre2k6  28975      83094\n",
            "3  l7wqsm   7348      80926\n",
            "4  l7v9o8  29356      80586\n",
            "5  l7s631  25561      77167\n",
            "6  m0fpgd  30653      77080\n",
            "7  l78za1   9549      75976\n",
            "8  ls63oa  31809      75839\n",
            "9  lm7n51  12522      75382\n"
          ],
          "name": "stdout"
        }
      ]
    },
    {
      "cell_type": "markdown",
      "metadata": {
        "id": "GfPRGcFSEasV"
      },
      "source": [
        "Similar to the previous part, this is looking at the TOP 10 posts with highest score"
      ]
    },
    {
      "cell_type": "code",
      "metadata": {
        "id": "_3pj5rFKUfsR",
        "colab": {
          "base_uri": "https://localhost:8080/"
        },
        "outputId": "add11426-a756-482a-f004-8bb4c1e433e8"
      },
      "source": [
        "# Post with most awards / score\n",
        "\n",
        "query = '''\n",
        "SELECT id, title, score, comms_num FROM data_2_clean\n",
        "ORDER BY score DESC\n",
        "'''\n",
        "\n",
        "data_2_post = ps.sqldf(query, locals())\n",
        "\n",
        "#Top 10 posts\n",
        "print(data_2_post.head(10))"
      ],
      "execution_count": 63,
      "outputs": [
        {
          "output_type": "stream",
          "text": [
            "       id                                              title   score  comms_num\n",
            "0  l8rf4k                             Times Square right now  348241      11554\n",
            "1  l78uct                      GME YOLO update — Jan 28 2021  225870      23309\n",
            "2  l846a1               GME YOLO month-end update — Jan 2021  219779      20105\n",
            "3  lnqgz8                      GME YOLO update — Feb 19 2021  201168      12846\n",
            "4  l881ia                                  It’s treason then  195782       4523\n",
            "5  l8c0u4  Used some of my GME tendies to buy Nintendo Sw...  192980       6785\n",
            "6  lexy8t                   Wow super bowl commercial for us  191380       3849\n",
            "7  l890i7                              That’s what I thought  175665       4603\n",
            "8  l7feld                      IT'S POWER TO THE TRADERS NOW  174401       5211\n",
            "9  l90oq6  I am proud to do my part in paying forward our...  171778       3633\n"
          ],
          "name": "stdout"
        }
      ]
    },
    {
      "cell_type": "markdown",
      "metadata": {
        "id": "F5WG1ZnbCtTC"
      },
      "source": [
        "To further study the correlation between score and comment numbers, we built up the heatmap based on the correlation matrix of score and comment numbers in data set 2."
      ]
    },
    {
      "cell_type": "code",
      "metadata": {
        "colab": {
          "base_uri": "https://localhost:8080/",
          "height": 318
        },
        "id": "G2RXFid5PYQs",
        "outputId": "62d66e4b-dcb0-4239-ce4f-7fe6ec1e900e"
      },
      "source": [
        "vec1 = data_2_post['score'].to_list()\n",
        "vec2 = data_2_post['comms_num'].to_list()\n",
        "\n",
        "import numpy as np\n",
        "\n",
        "corr = np.corrcoef(vec1, vec2)\n",
        "print(corr)\n",
        "\n",
        "# use a heatmap to show the relationship among those features\n",
        "sns.set()\n",
        "\n",
        "fig = plt.figure()\n",
        "plt.title('corresondence among features')\n",
        "sns_plot = sns.heatmap(corr)\n",
        "plt.show()"
      ],
      "execution_count": 64,
      "outputs": [
        {
          "output_type": "stream",
          "text": [
            "[[1.         0.20289827]\n",
            " [0.20289827 1.        ]]\n"
          ],
          "name": "stdout"
        },
        {
          "output_type": "display_data",
          "data": {
            "image/png": "[encoded data removed]",
            "text/plain": [
              "<Figure size 432x288 with 2 Axes>"
            ]
          },
          "metadata": {
            "tags": []
          }
        }
      ]
    },
    {
      "cell_type": "markdown",
      "metadata": {
        "id": "doLVr_l0ErO1"
      },
      "source": [
        "Next, we decided that it is important to look into the words within the title and found out their effects on score/comment numbers. Before doing so, we first need to normalize the score and comment number since they were originally having huge range. We choice to use min-max normalization in this part."
      ]
    },
    {
      "cell_type": "code",
      "metadata": {
        "id": "DBTsucEtNsVD",
        "colab": {
          "base_uri": "https://localhost:8080/",
          "height": 419
        },
        "outputId": "32f8cea5-207e-43b0-d1e1-9c0204ce0bb4"
      },
      "source": [
        "# Current dataframe is data_2_post, count the frequency and add the score at the same time\n",
        "# Normalize it using min-max normalization\n",
        "from sklearn import preprocessing\n",
        "\n",
        "x = data_2_post[['score','comms_num']].values #returns a numpy array\n",
        "min_max_scaler = preprocessing.MinMaxScaler()\n",
        "x_scaled = min_max_scaler.fit_transform(x)\n",
        "norm = pd.DataFrame(x_scaled)\n",
        "preprocessed = pd.concat([data_2_post['title'], norm], axis=1)\n",
        "preprocessed = preprocessed.rename(columns={0:\"score\", 1:\"comms_num\"})\n",
        "preprocessed.dropna()\n"
      ],
      "execution_count": 65,
      "outputs": [
        {
          "output_type": "execute_result",
          "data": {
            "text/html": [
              "<div>\n",
              "<style scoped>\n",
              "    .dataframe tbody tr th:only-of-type {\n",
              "        vertical-align: middle;\n",
              "    }\n",
              "\n",
              "    .dataframe tbody tr th {\n",
              "        vertical-align: top;\n",
              "    }\n",
              "\n",
              "    .dataframe thead th {\n",
              "        text-align: right;\n",
              "    }\n",
              "</style>\n",
              "<table border=\"1\" class=\"dataframe\">\n",
              "  <thead>\n",
              "    <tr style=\"text-align: right;\">\n",
              "      <th></th>\n",
              "      <th>title</th>\n",
              "      <th>score</th>\n",
              "      <th>comms_num</th>\n",
              "    </tr>\n",
              "  </thead>\n",
              "  <tbody>\n",
              "    <tr>\n",
              "      <th>0</th>\n",
              "      <td>Times Square right now</td>\n",
              "      <td>1.000000</td>\n",
              "      <td>0.123880</td>\n",
              "    </tr>\n",
              "    <tr>\n",
              "      <th>1</th>\n",
              "      <td>GME YOLO update — Jan 28 2021</td>\n",
              "      <td>0.648603</td>\n",
              "      <td>0.249914</td>\n",
              "    </tr>\n",
              "    <tr>\n",
              "      <th>2</th>\n",
              "      <td>GME YOLO month-end update — Jan 2021</td>\n",
              "      <td>0.631112</td>\n",
              "      <td>0.215562</td>\n",
              "    </tr>\n",
              "    <tr>\n",
              "      <th>3</th>\n",
              "      <td>GME YOLO update — Feb 19 2021</td>\n",
              "      <td>0.577669</td>\n",
              "      <td>0.137732</td>\n",
              "    </tr>\n",
              "    <tr>\n",
              "      <th>4</th>\n",
              "      <td>It’s treason then</td>\n",
              "      <td>0.562203</td>\n",
              "      <td>0.048495</td>\n",
              "    </tr>\n",
              "    <tr>\n",
              "      <th>...</th>\n",
              "      <td>...</td>\n",
              "      <td>...</td>\n",
              "      <td>...</td>\n",
              "    </tr>\n",
              "    <tr>\n",
              "      <th>45417</th>\n",
              "      <td>Unpinned Daily Discussion Thread for April 14,...</td>\n",
              "      <td>0.000000</td>\n",
              "      <td>0.018281</td>\n",
              "    </tr>\n",
              "    <tr>\n",
              "      <th>45418</th>\n",
              "      <td>DADDY JACK MA PRINTING</td>\n",
              "      <td>0.000000</td>\n",
              "      <td>0.000075</td>\n",
              "    </tr>\n",
              "    <tr>\n",
              "      <th>45419</th>\n",
              "      <td>$SDC (SmileDirectClub)</td>\n",
              "      <td>0.000000</td>\n",
              "      <td>0.000161</td>\n",
              "    </tr>\n",
              "    <tr>\n",
              "      <th>45420</th>\n",
              "      <td>20 DOCU 5/21 250 C + 200 DOCU 5/21 280 C + 50 ...</td>\n",
              "      <td>0.000000</td>\n",
              "      <td>0.000032</td>\n",
              "    </tr>\n",
              "    <tr>\n",
              "      <th>45421</th>\n",
              "      <td>Liquidated all BB shares started IWM short pos...</td>\n",
              "      <td>0.000000</td>\n",
              "      <td>0.000397</td>\n",
              "    </tr>\n",
              "  </tbody>\n",
              "</table>\n",
              "<p>45422 rows × 3 columns</p>\n",
              "</div>"
            ],
            "text/plain": [
              "                                                   title     score  comms_num\n",
              "0                                 Times Square right now  1.000000   0.123880\n",
              "1                          GME YOLO update — Jan 28 2021  0.648603   0.249914\n",
              "2                   GME YOLO month-end update — Jan 2021  0.631112   0.215562\n",
              "3                          GME YOLO update — Feb 19 2021  0.577669   0.137732\n",
              "4                                      It’s treason then  0.562203   0.048495\n",
              "...                                                  ...       ...        ...\n",
              "45417  Unpinned Daily Discussion Thread for April 14,...  0.000000   0.018281\n",
              "45418                             DADDY JACK MA PRINTING  0.000000   0.000075\n",
              "45419                             $SDC (SmileDirectClub)  0.000000   0.000161\n",
              "45420  20 DOCU 5/21 250 C + 200 DOCU 5/21 280 C + 50 ...  0.000000   0.000032\n",
              "45421  Liquidated all BB shares started IWM short pos...  0.000000   0.000397\n",
              "\n",
              "[45422 rows x 3 columns]"
            ]
          },
          "metadata": {
            "tags": []
          },
          "execution_count": 65
        }
      ]
    },
    {
      "cell_type": "markdown",
      "metadata": {
        "id": "OJZylahGFCA5"
      },
      "source": [
        "Then, we get rid of all the special characters in each title, and only leave valid words within each title."
      ]
    },
    {
      "cell_type": "code",
      "metadata": {
        "colab": {
          "base_uri": "https://localhost:8080/"
        },
        "id": "JbY42mrqlg5x",
        "outputId": "c079eabb-897e-4a76-9f58-65406510d91a"
      },
      "source": [
        "#Get rid of all the special characters in each title\n",
        "import regex as re\n",
        "preprocessed['title'].astype(str)\n",
        "preprocessed['title'] = preprocessed['title'].apply(lambda x: re.sub(r'[^\\w]', ' ', x))\n",
        "preprocessed['title']"
      ],
      "execution_count": 66,
      "outputs": [
        {
          "output_type": "execute_result",
          "data": {
            "text/plain": [
              "0                                   Times Square right now\n",
              "1                            GME YOLO update   Jan 28 2021\n",
              "2                     GME YOLO month end update   Jan 2021\n",
              "3                            GME YOLO update   Feb 19 2021\n",
              "4                                        It s treason then\n",
              "                               ...                        \n",
              "45417    Unpinned Daily Discussion Thread for April 14 ...\n",
              "45418                               DADDY JACK MA PRINTING\n",
              "45419                                SDC  SmileDirectClub \n",
              "45420    20 DOCU 5 21 250 C   200 DOCU 5 21 280 C   50 ...\n",
              "45421    Liquidated all BB shares started IWM short pos...\n",
              "Name: title, Length: 45422, dtype: object"
            ]
          },
          "metadata": {
            "tags": []
          },
          "execution_count": 66
        }
      ]
    },
    {
      "cell_type": "markdown",
      "metadata": {
        "id": "wHQk1IuDFcse"
      },
      "source": [
        "It is now time to count the word frequency! In the following part, we first set the stopwords for all the titles, and weight the word frequency based on the score of each post."
      ]
    },
    {
      "cell_type": "code",
      "metadata": {
        "id": "up5EmwgtFQMD"
      },
      "source": [
        "from collections import defaultdict\n",
        "from nltk.corpus import stopwords\n",
        "import nltk\n",
        "nltk.download('punkt')\n",
        "nltk.download('stopwords')\n",
        "from nltk.tokenize import word_tokenize\n",
        "word_freq = defaultdict(lambda: [0, 0]) \n",
        "all_stopwords = stopwords.words('english')\n",
        "stopword_list = ['i', 'we','us', 'a','like','play', 'our', 'do']\n",
        "all_stopwords.extend(stopword_list)\n",
        "\n",
        "# looping is now over both the text and the numbers\n",
        "for index, row in preprocessed.iterrows(): \n",
        "  text_tokens = word_tokenize(row['title'])\n",
        "  row['title'] = [word for word in text_tokens if not word.lower() in all_stopwords]\n",
        "  for word in row['title']: \n",
        "      # same as before\n",
        "      word_freq[word][0] += 1 \n",
        "      # new line, incrementing the numeric value for each word\n",
        "      word_freq[word][1] += row['score']\n",
        "\n",
        "columns = {0: 'abs_freq', 1: 'wtd_freq'}\n",
        "\n",
        "abs_wtd_df = pd.DataFrame.from_dict(word_freq, orient='index') \\\n",
        "             .rename(columns=columns) \\\n",
        "             .sort_values('wtd_freq', ascending=False) \\\n",
        "             .assign(rel_value=lambda df: df['wtd_freq'] / df['abs_freq']) \\\n",
        "            .round()\n",
        "\n",
        "abs_wtd_df.style.background_gradient(low=0, high=.7, subset=['rel_value'])"
      ],
      "execution_count": null,
      "outputs": []
    },
    {
      "cell_type": "markdown",
      "metadata": {
        "id": "Q25Yrpb0Grtn"
      },
      "source": [
        "Here, we make a statistic of absolute and weighted frequency. To add more information, we counted the cumulative of both frequencies, and the percentage of each word. As we can see from the result, GME and AMC are both optaining top 5 heat words in wallstreetbets in the first 4 month of 2021."
      ]
    },
    {
      "cell_type": "code",
      "metadata": {
        "colab": {
          "base_uri": "https://localhost:8080/",
          "height": 669
        },
        "id": "_d7brhDUF2sC",
        "outputId": "3728d3d3-46a8-4a91-dd92-de01f0ef2c80"
      },
      "source": [
        "abs_wtd_df.insert(1, 'abs_perc', value=abs_wtd_df['abs_freq'] / abs_wtd_df['abs_freq'].sum())\n",
        "abs_wtd_df.insert(2, 'abs_perc_cum', abs_wtd_df['abs_perc'].cumsum())\n",
        "abs_wtd_df.insert(4, 'wtd_freq_perc', abs_wtd_df['wtd_freq'] / abs_wtd_df['wtd_freq'].sum())\n",
        "abs_wtd_df.insert(5, 'wtd_freq_perc_cum', abs_wtd_df['wtd_freq_perc'].cumsum())\n",
        "abs_wtd_df.style.background_gradient(low=0, high=0.8)\n",
        "abs_wtd_df.head(20)"
      ],
      "execution_count": 71,
      "outputs": [
        {
          "output_type": "execute_result",
          "data": {
            "text/html": [
              "<div>\n",
              "<style scoped>\n",
              "    .dataframe tbody tr th:only-of-type {\n",
              "        vertical-align: middle;\n",
              "    }\n",
              "\n",
              "    .dataframe tbody tr th {\n",
              "        vertical-align: top;\n",
              "    }\n",
              "\n",
              "    .dataframe thead th {\n",
              "        text-align: right;\n",
              "    }\n",
              "</style>\n",
              "<table border=\"1\" class=\"dataframe\">\n",
              "  <thead>\n",
              "    <tr style=\"text-align: right;\">\n",
              "      <th></th>\n",
              "      <th>abs_freq</th>\n",
              "      <th>abs_perc</th>\n",
              "      <th>abs_perc_cum</th>\n",
              "      <th>wtd_freq</th>\n",
              "      <th>wtd_freq_perc</th>\n",
              "      <th>wtd_freq_perc_cum</th>\n",
              "      <th>rel_value</th>\n",
              "    </tr>\n",
              "  </thead>\n",
              "  <tbody>\n",
              "    <tr>\n",
              "      <th>GME</th>\n",
              "      <td>8314</td>\n",
              "      <td>0.028812</td>\n",
              "      <td>0.028812</td>\n",
              "      <td>47.0</td>\n",
              "      <td>0.061680</td>\n",
              "      <td>0.061680</td>\n",
              "      <td>0.0</td>\n",
              "    </tr>\n",
              "    <tr>\n",
              "      <th>WSB</th>\n",
              "      <td>973</td>\n",
              "      <td>0.003372</td>\n",
              "      <td>0.032184</td>\n",
              "      <td>12.0</td>\n",
              "      <td>0.015748</td>\n",
              "      <td>0.077428</td>\n",
              "      <td>0.0</td>\n",
              "    </tr>\n",
              "    <tr>\n",
              "      <th>2021</th>\n",
              "      <td>649</td>\n",
              "      <td>0.002249</td>\n",
              "      <td>0.034433</td>\n",
              "      <td>10.0</td>\n",
              "      <td>0.013123</td>\n",
              "      <td>0.090551</td>\n",
              "      <td>0.0</td>\n",
              "    </tr>\n",
              "    <tr>\n",
              "      <th>GameStop</th>\n",
              "      <td>589</td>\n",
              "      <td>0.002041</td>\n",
              "      <td>0.036474</td>\n",
              "      <td>7.0</td>\n",
              "      <td>0.009186</td>\n",
              "      <td>0.099738</td>\n",
              "      <td>0.0</td>\n",
              "    </tr>\n",
              "    <tr>\n",
              "      <th>YOLO</th>\n",
              "      <td>1043</td>\n",
              "      <td>0.003614</td>\n",
              "      <td>0.040088</td>\n",
              "      <td>6.0</td>\n",
              "      <td>0.007874</td>\n",
              "      <td>0.107612</td>\n",
              "      <td>0.0</td>\n",
              "    </tr>\n",
              "    <tr>\n",
              "      <th>AMC</th>\n",
              "      <td>3062</td>\n",
              "      <td>0.010611</td>\n",
              "      <td>0.050699</td>\n",
              "      <td>5.0</td>\n",
              "      <td>0.006562</td>\n",
              "      <td>0.114173</td>\n",
              "      <td>0.0</td>\n",
              "    </tr>\n",
              "    <tr>\n",
              "      <th>update</th>\n",
              "      <td>290</td>\n",
              "      <td>0.001005</td>\n",
              "      <td>0.051704</td>\n",
              "      <td>5.0</td>\n",
              "      <td>0.006562</td>\n",
              "      <td>0.120735</td>\n",
              "      <td>0.0</td>\n",
              "    </tr>\n",
              "    <tr>\n",
              "      <th>shares</th>\n",
              "      <td>1343</td>\n",
              "      <td>0.004654</td>\n",
              "      <td>0.056358</td>\n",
              "      <td>5.0</td>\n",
              "      <td>0.006562</td>\n",
              "      <td>0.127297</td>\n",
              "      <td>0.0</td>\n",
              "    </tr>\n",
              "    <tr>\n",
              "      <th>Robinhood</th>\n",
              "      <td>2296</td>\n",
              "      <td>0.007957</td>\n",
              "      <td>0.064315</td>\n",
              "      <td>5.0</td>\n",
              "      <td>0.006562</td>\n",
              "      <td>0.133858</td>\n",
              "      <td>0.0</td>\n",
              "    </tr>\n",
              "    <tr>\n",
              "      <th>stock</th>\n",
              "      <td>1343</td>\n",
              "      <td>0.004654</td>\n",
              "      <td>0.068969</td>\n",
              "      <td>5.0</td>\n",
              "      <td>0.006562</td>\n",
              "      <td>0.140420</td>\n",
              "      <td>0.0</td>\n",
              "    </tr>\n",
              "    <tr>\n",
              "      <th>going</th>\n",
              "      <td>1008</td>\n",
              "      <td>0.003493</td>\n",
              "      <td>0.072462</td>\n",
              "      <td>5.0</td>\n",
              "      <td>0.006562</td>\n",
              "      <td>0.146982</td>\n",
              "      <td>0.0</td>\n",
              "    </tr>\n",
              "    <tr>\n",
              "      <th>buy</th>\n",
              "      <td>2011</td>\n",
              "      <td>0.006969</td>\n",
              "      <td>0.079431</td>\n",
              "      <td>5.0</td>\n",
              "      <td>0.006562</td>\n",
              "      <td>0.153543</td>\n",
              "      <td>0.0</td>\n",
              "    </tr>\n",
              "    <tr>\n",
              "      <th>market</th>\n",
              "      <td>803</td>\n",
              "      <td>0.002783</td>\n",
              "      <td>0.082214</td>\n",
              "      <td>5.0</td>\n",
              "      <td>0.006562</td>\n",
              "      <td>0.160105</td>\n",
              "      <td>0.0</td>\n",
              "    </tr>\n",
              "    <tr>\n",
              "      <th>short</th>\n",
              "      <td>782</td>\n",
              "      <td>0.002710</td>\n",
              "      <td>0.084924</td>\n",
              "      <td>4.0</td>\n",
              "      <td>0.005249</td>\n",
              "      <td>0.165354</td>\n",
              "      <td>0.0</td>\n",
              "    </tr>\n",
              "    <tr>\n",
              "      <th>2</th>\n",
              "      <td>798</td>\n",
              "      <td>0.002765</td>\n",
              "      <td>0.087689</td>\n",
              "      <td>4.0</td>\n",
              "      <td>0.005249</td>\n",
              "      <td>0.170604</td>\n",
              "      <td>0.0</td>\n",
              "    </tr>\n",
              "    <tr>\n",
              "      <th>time</th>\n",
              "      <td>734</td>\n",
              "      <td>0.002544</td>\n",
              "      <td>0.090233</td>\n",
              "      <td>4.0</td>\n",
              "      <td>0.005249</td>\n",
              "      <td>0.175853</td>\n",
              "      <td>0.0</td>\n",
              "    </tr>\n",
              "    <tr>\n",
              "      <th>right</th>\n",
              "      <td>694</td>\n",
              "      <td>0.002405</td>\n",
              "      <td>0.092638</td>\n",
              "      <td>4.0</td>\n",
              "      <td>0.005249</td>\n",
              "      <td>0.181102</td>\n",
              "      <td>0.0</td>\n",
              "    </tr>\n",
              "    <tr>\n",
              "      <th>get</th>\n",
              "      <td>985</td>\n",
              "      <td>0.003413</td>\n",
              "      <td>0.096051</td>\n",
              "      <td>4.0</td>\n",
              "      <td>0.005249</td>\n",
              "      <td>0.186352</td>\n",
              "      <td>0.0</td>\n",
              "    </tr>\n",
              "    <tr>\n",
              "      <th>Megathread</th>\n",
              "      <td>73</td>\n",
              "      <td>0.000253</td>\n",
              "      <td>0.096304</td>\n",
              "      <td>4.0</td>\n",
              "      <td>0.005249</td>\n",
              "      <td>0.191601</td>\n",
              "      <td>0.0</td>\n",
              "    </tr>\n",
              "    <tr>\n",
              "      <th>go</th>\n",
              "      <td>865</td>\n",
              "      <td>0.002998</td>\n",
              "      <td>0.099302</td>\n",
              "      <td>4.0</td>\n",
              "      <td>0.005249</td>\n",
              "      <td>0.196850</td>\n",
              "      <td>0.0</td>\n",
              "    </tr>\n",
              "  </tbody>\n",
              "</table>\n",
              "</div>"
            ],
            "text/plain": [
              "            abs_freq  abs_perc  ...  wtd_freq_perc_cum  rel_value\n",
              "GME             8314  0.028812  ...           0.061680        0.0\n",
              "WSB              973  0.003372  ...           0.077428        0.0\n",
              "2021             649  0.002249  ...           0.090551        0.0\n",
              "GameStop         589  0.002041  ...           0.099738        0.0\n",
              "YOLO            1043  0.003614  ...           0.107612        0.0\n",
              "AMC             3062  0.010611  ...           0.114173        0.0\n",
              "update           290  0.001005  ...           0.120735        0.0\n",
              "shares          1343  0.004654  ...           0.127297        0.0\n",
              "Robinhood       2296  0.007957  ...           0.133858        0.0\n",
              "stock           1343  0.004654  ...           0.140420        0.0\n",
              "going           1008  0.003493  ...           0.146982        0.0\n",
              "buy             2011  0.006969  ...           0.153543        0.0\n",
              "market           803  0.002783  ...           0.160105        0.0\n",
              "short            782  0.002710  ...           0.165354        0.0\n",
              "2                798  0.002765  ...           0.170604        0.0\n",
              "time             734  0.002544  ...           0.175853        0.0\n",
              "right            694  0.002405  ...           0.181102        0.0\n",
              "get              985  0.003413  ...           0.186352        0.0\n",
              "Megathread        73  0.000253  ...           0.191601        0.0\n",
              "go               865  0.002998  ...           0.196850        0.0\n",
              "\n",
              "[20 rows x 7 columns]"
            ]
          },
          "metadata": {
            "tags": []
          },
          "execution_count": 71
        }
      ]
    },
    {
      "cell_type": "markdown",
      "metadata": {
        "id": "JdBU5PftJOYw"
      },
      "source": [
        "###**Data Set 1**\n",
        "Now, we look at Data set 1. This is the larger data set with 200MB, we therefore did not do deep EDA on this one."
      ]
    },
    {
      "cell_type": "code",
      "metadata": {
        "id": "wLY-qWMJVuSS"
      },
      "source": [
        "# clear some useless data\n",
        "\n",
        "query = '''\n",
        "SELECT * FROM data_1_df\n",
        "WHERE\n",
        "id IS NOT NULL\n",
        "AND\n",
        "title IS NOT NULL\n",
        "AND\n",
        "score IS NOT NULL\n",
        "AND\n",
        "author IS NOT NULL\n",
        "AND\n",
        "created_utc IS NOT NULL\n",
        "AND\n",
        "num_comments IS NOT NULL\n",
        "'''\n",
        "\n",
        "data_1_clean = ps.sqldf(query, locals())"
      ],
      "execution_count": null,
      "outputs": []
    },
    {
      "cell_type": "code",
      "metadata": {
        "colab": {
          "base_uri": "https://localhost:8080/"
        },
        "id": "5ycktQx2Wkrr",
        "outputId": "8c9a4901-b21b-4c41-d75f-713bc6f87d50"
      },
      "source": [
        "# if a post is removed by someone, then it can be classified as removed, which is much easier for a computer to understand than some names.\n",
        "\n",
        "data_1_clean['removed'] = data_1_clean['removed_by'].apply(to_binary)\n",
        "\n",
        "print(data_1_clean[['author', 'author_flair_text','removed', 'total_awards_received']])"
      ],
      "execution_count": null,
      "outputs": [
        {
          "output_type": "stream",
          "text": [
            "                   author author_flair_text  removed  total_awards_received\n",
            "0                Zaccko98              None        1                    0.0\n",
            "1               toutoucnc       \u001b210115:1:1        1                    0.0\n",
            "2                  thabat              None        1                    0.0\n",
            "3             AsianTwink_              None        1                    0.0\n",
            "4          Oneverystreet8              None        1                    0.0\n",
            "...                   ...               ...      ...                    ...\n",
            "1118857  secondhandsondek              None        0                    NaN\n",
            "1118858         [deleted]              None        0                    NaN\n",
            "1118859         [deleted]              None        0                    NaN\n",
            "1118860         [deleted]              None        0                    NaN\n",
            "1118861         [deleted]              None        0                    NaN\n",
            "\n",
            "[1118862 rows x 4 columns]\n"
          ],
          "name": "stdout"
        }
      ]
    },
    {
      "cell_type": "markdown",
      "metadata": {
        "id": "Ki-iiwSJKClr"
      },
      "source": [
        "We decide to drop all the posts taht are already removed, which have \\[deleted] as title."
      ]
    },
    {
      "cell_type": "code",
      "metadata": {
        "id": "tMaj0kHNXAz4"
      },
      "source": [
        "# also clear the posts from users who deleted their account\n",
        "\n",
        "query = '''\n",
        "SELECT * FROM data_1_clean\n",
        "WHERE author IS NOT '[deleted]'\n",
        "'''\n",
        "\n",
        "data_1_not_del = ps.sqldf(query, locals()).fillna(0)"
      ],
      "execution_count": null,
      "outputs": []
    },
    {
      "cell_type": "code",
      "metadata": {
        "colab": {
          "base_uri": "https://localhost:8080/",
          "height": 538
        },
        "id": "eNvzPg-XXZ-3",
        "outputId": "04c992cc-59a3-4fa9-8689-80c169177e03"
      },
      "source": [
        "data_1_not_del"
      ],
      "execution_count": null,
      "outputs": [
        {
          "output_type": "execute_result",
          "data": {
            "text/html": [
              "<div>\n",
              "<style scoped>\n",
              "    .dataframe tbody tr th:only-of-type {\n",
              "        vertical-align: middle;\n",
              "    }\n",
              "\n",
              "    .dataframe tbody tr th {\n",
              "        vertical-align: top;\n",
              "    }\n",
              "\n",
              "    .dataframe thead th {\n",
              "        text-align: right;\n",
              "    }\n",
              "</style>\n",
              "<table border=\"1\" class=\"dataframe\">\n",
              "  <thead>\n",
              "    <tr style=\"text-align: right;\">\n",
              "      <th></th>\n",
              "      <th>id</th>\n",
              "      <th>title</th>\n",
              "      <th>score</th>\n",
              "      <th>author</th>\n",
              "      <th>author_flair_text</th>\n",
              "      <th>removed_by</th>\n",
              "      <th>total_awards_received</th>\n",
              "      <th>awarders</th>\n",
              "      <th>created_utc</th>\n",
              "      <th>full_link</th>\n",
              "      <th>num_comments</th>\n",
              "      <th>over_18</th>\n",
              "      <th>removed</th>\n",
              "    </tr>\n",
              "  </thead>\n",
              "  <tbody>\n",
              "    <tr>\n",
              "      <th>0</th>\n",
              "      <td>ll0n5k</td>\n",
              "      <td>Whats going on with PLTR?</td>\n",
              "      <td>1</td>\n",
              "      <td>Zaccko98</td>\n",
              "      <td>0</td>\n",
              "      <td>moderator</td>\n",
              "      <td>0.0</td>\n",
              "      <td>[]</td>\n",
              "      <td>1613469192</td>\n",
              "      <td>https://www.reddit.com/r/wallstreetbets/commen...</td>\n",
              "      <td>2</td>\n",
              "      <td>0</td>\n",
              "      <td>1</td>\n",
              "    </tr>\n",
              "    <tr>\n",
              "      <th>1</th>\n",
              "      <td>ll0n4p</td>\n",
              "      <td>Need explanations on Level 2 data for GME, why...</td>\n",
              "      <td>1</td>\n",
              "      <td>toutoucnc</td>\n",
              "      <td>\u001b210115:1:1</td>\n",
              "      <td>moderator</td>\n",
              "      <td>0.0</td>\n",
              "      <td>[]</td>\n",
              "      <td>1613469189</td>\n",
              "      <td>https://www.reddit.com/r/wallstreetbets/commen...</td>\n",
              "      <td>2</td>\n",
              "      <td>0</td>\n",
              "      <td>1</td>\n",
              "    </tr>\n",
              "    <tr>\n",
              "      <th>2</th>\n",
              "      <td>ll0my2</td>\n",
              "      <td>XRT is being used as a laundry short machine</td>\n",
              "      <td>1</td>\n",
              "      <td>thabat</td>\n",
              "      <td>0</td>\n",
              "      <td>moderator</td>\n",
              "      <td>0.0</td>\n",
              "      <td>[]</td>\n",
              "      <td>1613469166</td>\n",
              "      <td>https://www.reddit.com/r/wallstreetbets/commen...</td>\n",
              "      <td>2</td>\n",
              "      <td>0</td>\n",
              "      <td>1</td>\n",
              "    </tr>\n",
              "    <tr>\n",
              "      <th>3</th>\n",
              "      <td>ll0mxr</td>\n",
              "      <td>Airlines?</td>\n",
              "      <td>1</td>\n",
              "      <td>AsianTwink_</td>\n",
              "      <td>0</td>\n",
              "      <td>moderator</td>\n",
              "      <td>0.0</td>\n",
              "      <td>[]</td>\n",
              "      <td>1613469165</td>\n",
              "      <td>https://www.reddit.com/r/wallstreetbets/commen...</td>\n",
              "      <td>2</td>\n",
              "      <td>0</td>\n",
              "      <td>1</td>\n",
              "    </tr>\n",
              "    <tr>\n",
              "      <th>4</th>\n",
              "      <td>ll0mx4</td>\n",
              "      <td>Buy TRXC 🚀</td>\n",
              "      <td>1</td>\n",
              "      <td>Oneverystreet8</td>\n",
              "      <td>0</td>\n",
              "      <td>moderator</td>\n",
              "      <td>0.0</td>\n",
              "      <td>[]</td>\n",
              "      <td>1613469164</td>\n",
              "      <td>https://www.reddit.com/r/wallstreetbets/commen...</td>\n",
              "      <td>2</td>\n",
              "      <td>0</td>\n",
              "      <td>1</td>\n",
              "    </tr>\n",
              "    <tr>\n",
              "      <th>...</th>\n",
              "      <td>...</td>\n",
              "      <td>...</td>\n",
              "      <td>...</td>\n",
              "      <td>...</td>\n",
              "      <td>...</td>\n",
              "      <td>...</td>\n",
              "      <td>...</td>\n",
              "      <td>...</td>\n",
              "      <td>...</td>\n",
              "      <td>...</td>\n",
              "      <td>...</td>\n",
              "      <td>...</td>\n",
              "      <td>...</td>\n",
              "    </tr>\n",
              "    <tr>\n",
              "      <th>1037323</th>\n",
              "      <td>sr5dr</td>\n",
              "      <td>since r/investing is on all aapl all the time ...</td>\n",
              "      <td>8</td>\n",
              "      <td>entsportsjunkie</td>\n",
              "      <td>0</td>\n",
              "      <td>0</td>\n",
              "      <td>0.0</td>\n",
              "      <td>0</td>\n",
              "      <td>1335323552</td>\n",
              "      <td>https://www.reddit.com/r/wallstreetbets/commen...</td>\n",
              "      <td>20</td>\n",
              "      <td>0</td>\n",
              "      <td>0</td>\n",
              "    </tr>\n",
              "    <tr>\n",
              "      <th>1037324</th>\n",
              "      <td>sqd7j</td>\n",
              "      <td>PNRA - Panera Breads earnings tonight (4/24)</td>\n",
              "      <td>4</td>\n",
              "      <td>secondhandsondek</td>\n",
              "      <td>0</td>\n",
              "      <td>0</td>\n",
              "      <td>0.0</td>\n",
              "      <td>0</td>\n",
              "      <td>1335293453</td>\n",
              "      <td>https://www.reddit.com/r/wallstreetbets/commen...</td>\n",
              "      <td>3</td>\n",
              "      <td>0</td>\n",
              "      <td>0</td>\n",
              "    </tr>\n",
              "    <tr>\n",
              "      <th>1037325</th>\n",
              "      <td>sohin</td>\n",
              "      <td>NFLX bear coming out of hibernation. Earnings ...</td>\n",
              "      <td>7</td>\n",
              "      <td>secondhandsondek</td>\n",
              "      <td>0</td>\n",
              "      <td>0</td>\n",
              "      <td>0.0</td>\n",
              "      <td>0</td>\n",
              "      <td>1335204052</td>\n",
              "      <td>https://www.reddit.com/r/wallstreetbets/commen...</td>\n",
              "      <td>13</td>\n",
              "      <td>0</td>\n",
              "      <td>0</td>\n",
              "    </tr>\n",
              "    <tr>\n",
              "      <th>1037326</th>\n",
              "      <td>sinsk</td>\n",
              "      <td>After HGSI spikes 97%, will share price drop a...</td>\n",
              "      <td>4</td>\n",
              "      <td>CheeseYogi</td>\n",
              "      <td>0</td>\n",
              "      <td>0</td>\n",
              "      <td>0.0</td>\n",
              "      <td>0</td>\n",
              "      <td>1334877676</td>\n",
              "      <td>https://www.reddit.com/r/wallstreetbets/commen...</td>\n",
              "      <td>0</td>\n",
              "      <td>0</td>\n",
              "      <td>0</td>\n",
              "    </tr>\n",
              "    <tr>\n",
              "      <th>1037327</th>\n",
              "      <td>shtex</td>\n",
              "      <td>EBAY posts higher 1Q net income and revenue, s...</td>\n",
              "      <td>7</td>\n",
              "      <td>secondhandsondek</td>\n",
              "      <td>0</td>\n",
              "      <td>0</td>\n",
              "      <td>0.0</td>\n",
              "      <td>0</td>\n",
              "      <td>1334844620</td>\n",
              "      <td>https://www.reddit.com/r/wallstreetbets/commen...</td>\n",
              "      <td>4</td>\n",
              "      <td>0</td>\n",
              "      <td>0</td>\n",
              "    </tr>\n",
              "  </tbody>\n",
              "</table>\n",
              "<p>1037328 rows × 13 columns</p>\n",
              "</div>"
            ],
            "text/plain": [
              "             id  ... removed\n",
              "0        ll0n5k  ...       1\n",
              "1        ll0n4p  ...       1\n",
              "2        ll0my2  ...       1\n",
              "3        ll0mxr  ...       1\n",
              "4        ll0mx4  ...       1\n",
              "...         ...  ...     ...\n",
              "1037323   sr5dr  ...       0\n",
              "1037324   sqd7j  ...       0\n",
              "1037325   sohin  ...       0\n",
              "1037326   sinsk  ...       0\n",
              "1037327   shtex  ...       0\n",
              "\n",
              "[1037328 rows x 13 columns]"
            ]
          },
          "metadata": {
            "tags": []
          },
          "execution_count": 18
        }
      ]
    },
    {
      "cell_type": "code",
      "metadata": {
        "colab": {
          "base_uri": "https://localhost:8080/"
        },
        "id": "D2cSrh2sVwqP",
        "outputId": "d10279a7-0d21-45d5-fac0-1659346b6369"
      },
      "source": [
        "print(data_1_df.columns)"
      ],
      "execution_count": null,
      "outputs": [
        {
          "output_type": "stream",
          "text": [
            "Index(['id', 'title', 'score', 'author', 'author_flair_text', 'removed_by',\n",
            "       'total_awards_received', 'awarders', 'created_utc', 'full_link',\n",
            "       'num_comments', 'over_18'],\n",
            "      dtype='object')\n"
          ],
          "name": "stdout"
        }
      ]
    },
    {
      "cell_type": "code",
      "metadata": {
        "id": "HgTZYn8sWQr2"
      },
      "source": [
        "# Author with most awards / score\n",
        "\n",
        "query = '''\n",
        "SELECT author, count(score) as num_post, avg(score) as mean_score,avg(num_comments) as mean_comms, avg(removed) as ratio_removed, avg(total_awards_received) as mean_awards FROM data_1_not_del\n",
        "GROUP BY author\n",
        "ORDER BY mean_score DESC\n",
        "'''\n",
        "\n",
        "data_1_author = ps.sqldf(query, locals())\n",
        "data_1_author = data_1_author.fillna(0)"
      ],
      "execution_count": null,
      "outputs": []
    },
    {
      "cell_type": "code",
      "metadata": {
        "colab": {
          "base_uri": "https://localhost:8080/",
          "height": 419
        },
        "id": "g0cI8ZoCYFVg",
        "outputId": "88467ed5-13e5-4ff2-a938-26b608f344fa"
      },
      "source": [
        "data_1_author"
      ],
      "execution_count": null,
      "outputs": [
        {
          "output_type": "execute_result",
          "data": {
            "text/html": [
              "<div>\n",
              "<style scoped>\n",
              "    .dataframe tbody tr th:only-of-type {\n",
              "        vertical-align: middle;\n",
              "    }\n",
              "\n",
              "    .dataframe tbody tr th {\n",
              "        vertical-align: top;\n",
              "    }\n",
              "\n",
              "    .dataframe thead th {\n",
              "        text-align: right;\n",
              "    }\n",
              "</style>\n",
              "<table border=\"1\" class=\"dataframe\">\n",
              "  <thead>\n",
              "    <tr style=\"text-align: right;\">\n",
              "      <th></th>\n",
              "      <th>author</th>\n",
              "      <th>num_post</th>\n",
              "      <th>mean_score</th>\n",
              "      <th>mean_comms</th>\n",
              "      <th>ratio_removed</th>\n",
              "      <th>mean_awards</th>\n",
              "    </tr>\n",
              "  </thead>\n",
              "  <tbody>\n",
              "    <tr>\n",
              "      <th>0</th>\n",
              "      <td>Lansman</td>\n",
              "      <td>1</td>\n",
              "      <td>107196.0</td>\n",
              "      <td>6810.0</td>\n",
              "      <td>0.0</td>\n",
              "      <td>571.0</td>\n",
              "    </tr>\n",
              "    <tr>\n",
              "      <th>1</th>\n",
              "      <td>Greenzone51</td>\n",
              "      <td>1</td>\n",
              "      <td>97512.0</td>\n",
              "      <td>5435.0</td>\n",
              "      <td>1.0</td>\n",
              "      <td>431.0</td>\n",
              "    </tr>\n",
              "    <tr>\n",
              "      <th>2</th>\n",
              "      <td>Darlink23</td>\n",
              "      <td>1</td>\n",
              "      <td>91846.0</td>\n",
              "      <td>4539.0</td>\n",
              "      <td>0.0</td>\n",
              "      <td>334.0</td>\n",
              "    </tr>\n",
              "    <tr>\n",
              "      <th>3</th>\n",
              "      <td>chubbygroundhog</td>\n",
              "      <td>1</td>\n",
              "      <td>90444.0</td>\n",
              "      <td>2361.0</td>\n",
              "      <td>0.0</td>\n",
              "      <td>445.0</td>\n",
              "    </tr>\n",
              "    <tr>\n",
              "      <th>4</th>\n",
              "      <td>HistoryGuardian</td>\n",
              "      <td>1</td>\n",
              "      <td>71796.0</td>\n",
              "      <td>4379.0</td>\n",
              "      <td>0.0</td>\n",
              "      <td>173.0</td>\n",
              "    </tr>\n",
              "    <tr>\n",
              "      <th>...</th>\n",
              "      <td>...</td>\n",
              "      <td>...</td>\n",
              "      <td>...</td>\n",
              "      <td>...</td>\n",
              "      <td>...</td>\n",
              "      <td>...</td>\n",
              "    </tr>\n",
              "    <tr>\n",
              "      <th>475752</th>\n",
              "      <td>zuggra</td>\n",
              "      <td>1</td>\n",
              "      <td>0.0</td>\n",
              "      <td>1.0</td>\n",
              "      <td>0.0</td>\n",
              "      <td>0.0</td>\n",
              "    </tr>\n",
              "    <tr>\n",
              "      <th>475753</th>\n",
              "      <td>zuurstok420goodbeer</td>\n",
              "      <td>1</td>\n",
              "      <td>0.0</td>\n",
              "      <td>13.0</td>\n",
              "      <td>0.0</td>\n",
              "      <td>0.0</td>\n",
              "    </tr>\n",
              "    <tr>\n",
              "      <th>475754</th>\n",
              "      <td>zwondingo</td>\n",
              "      <td>1</td>\n",
              "      <td>0.0</td>\n",
              "      <td>0.0</td>\n",
              "      <td>1.0</td>\n",
              "      <td>0.0</td>\n",
              "    </tr>\n",
              "    <tr>\n",
              "      <th>475755</th>\n",
              "      <td>zzer08ight</td>\n",
              "      <td>1</td>\n",
              "      <td>0.0</td>\n",
              "      <td>0.0</td>\n",
              "      <td>1.0</td>\n",
              "      <td>0.0</td>\n",
              "    </tr>\n",
              "    <tr>\n",
              "      <th>475756</th>\n",
              "      <td>zzlgaming1</td>\n",
              "      <td>1</td>\n",
              "      <td>0.0</td>\n",
              "      <td>8.0</td>\n",
              "      <td>1.0</td>\n",
              "      <td>0.0</td>\n",
              "    </tr>\n",
              "  </tbody>\n",
              "</table>\n",
              "<p>475757 rows × 6 columns</p>\n",
              "</div>"
            ],
            "text/plain": [
              "                     author  num_post  ...  ratio_removed  mean_awards\n",
              "0                   Lansman         1  ...            0.0        571.0\n",
              "1               Greenzone51         1  ...            1.0        431.0\n",
              "2                 Darlink23         1  ...            0.0        334.0\n",
              "3           chubbygroundhog         1  ...            0.0        445.0\n",
              "4           HistoryGuardian         1  ...            0.0        173.0\n",
              "...                     ...       ...  ...            ...          ...\n",
              "475752               zuggra         1  ...            0.0          0.0\n",
              "475753  zuurstok420goodbeer         1  ...            0.0          0.0\n",
              "475754            zwondingo         1  ...            1.0          0.0\n",
              "475755           zzer08ight         1  ...            1.0          0.0\n",
              "475756           zzlgaming1         1  ...            1.0          0.0\n",
              "\n",
              "[475757 rows x 6 columns]"
            ]
          },
          "metadata": {
            "tags": []
          },
          "execution_count": 21
        }
      ]
    },
    {
      "cell_type": "code",
      "metadata": {
        "colab": {
          "base_uri": "https://localhost:8080/",
          "height": 284
        },
        "id": "dUY1Bk2uQJYH",
        "outputId": "24df073f-a114-420f-86c2-9e23eff45a4a"
      },
      "source": [
        "# feature vectors\n",
        "\n",
        "vec1 = data_1_author['num_post'].to_list()\n",
        "vec2 = data_1_author['mean_score'].to_list()\n",
        "vec3 = data_1_author['mean_comms'].to_list()\n",
        "vec4 = data_1_author['ratio_removed'].to_list()\n",
        "vec5 = data_1_author['mean_awards'].to_list()\n",
        "\n",
        "import numpy as np\n",
        "\n",
        "corr = np.corrcoef([vec1, vec2, vec3, vec4, vec5])\n",
        "# print(corr)\n",
        "\n",
        "# use a heatmap to show the relationship among those features\n",
        "\n",
        "fig = plt.figure()\n",
        "plt.title('corresondence among features')\n",
        "sns_plot = sns.heatmap(corr)\n",
        "plt.show()"
      ],
      "execution_count": null,
      "outputs": [
        {
          "output_type": "display_data",
          "data": {
            "image/png": "[encoded data removed]",
            "text/plain": [
              "<Figure size 432x288 with 2 Axes>"
            ]
          },
          "metadata": {
            "tags": []
          }
        }
      ]
    },
    {
      "cell_type": "code",
      "metadata": {
        "id": "97YV6hsZlK2C"
      },
      "source": [
        "query = '''\n",
        "SELECT * FROM data_1_author\n",
        "ORDER BY num_post DESC\n",
        "'''\n",
        "\n",
        "data_1_num_post = ps.sqldf(query, locals())"
      ],
      "execution_count": null,
      "outputs": []
    },
    {
      "cell_type": "code",
      "metadata": {
        "colab": {
          "base_uri": "https://localhost:8080/",
          "height": 419
        },
        "id": "8mCRRiSLlZcZ",
        "outputId": "028be5f7-7c85-4d2a-ac07-6c3419650b2c"
      },
      "source": [
        "data_1_num_post"
      ],
      "execution_count": null,
      "outputs": [
        {
          "output_type": "execute_result",
          "data": {
            "text/html": [
              "<div>\n",
              "<style scoped>\n",
              "    .dataframe tbody tr th:only-of-type {\n",
              "        vertical-align: middle;\n",
              "    }\n",
              "\n",
              "    .dataframe tbody tr th {\n",
              "        vertical-align: top;\n",
              "    }\n",
              "\n",
              "    .dataframe thead th {\n",
              "        text-align: right;\n",
              "    }\n",
              "</style>\n",
              "<table border=\"1\" class=\"dataframe\">\n",
              "  <thead>\n",
              "    <tr style=\"text-align: right;\">\n",
              "      <th></th>\n",
              "      <th>author</th>\n",
              "      <th>num_post</th>\n",
              "      <th>mean_score</th>\n",
              "      <th>mean_comms</th>\n",
              "      <th>ratio_removed</th>\n",
              "      <th>mean_awards</th>\n",
              "    </tr>\n",
              "  </thead>\n",
              "  <tbody>\n",
              "    <tr>\n",
              "      <th>0</th>\n",
              "      <td>AutoModerator</td>\n",
              "      <td>2403</td>\n",
              "      <td>54.204744</td>\n",
              "      <td>6597.935081</td>\n",
              "      <td>0.000416</td>\n",
              "      <td>0.902622</td>\n",
              "    </tr>\n",
              "    <tr>\n",
              "      <th>1</th>\n",
              "      <td>WSBVoteBot</td>\n",
              "      <td>1461</td>\n",
              "      <td>1.048597</td>\n",
              "      <td>9.547570</td>\n",
              "      <td>0.000000</td>\n",
              "      <td>0.000000</td>\n",
              "    </tr>\n",
              "    <tr>\n",
              "      <th>2</th>\n",
              "      <td>WSBConsensus</td>\n",
              "      <td>843</td>\n",
              "      <td>108.945433</td>\n",
              "      <td>31.817319</td>\n",
              "      <td>0.020166</td>\n",
              "      <td>0.015421</td>\n",
              "    </tr>\n",
              "    <tr>\n",
              "      <th>3</th>\n",
              "      <td>londonistani</td>\n",
              "      <td>549</td>\n",
              "      <td>41.336976</td>\n",
              "      <td>14.562842</td>\n",
              "      <td>0.001821</td>\n",
              "      <td>0.000000</td>\n",
              "    </tr>\n",
              "    <tr>\n",
              "      <th>4</th>\n",
              "      <td>StockPollsEnterprise</td>\n",
              "      <td>503</td>\n",
              "      <td>29.854871</td>\n",
              "      <td>13.174950</td>\n",
              "      <td>0.007952</td>\n",
              "      <td>0.000000</td>\n",
              "    </tr>\n",
              "    <tr>\n",
              "      <th>...</th>\n",
              "      <td>...</td>\n",
              "      <td>...</td>\n",
              "      <td>...</td>\n",
              "      <td>...</td>\n",
              "      <td>...</td>\n",
              "      <td>...</td>\n",
              "    </tr>\n",
              "    <tr>\n",
              "      <th>475752</th>\n",
              "      <td>zuggra</td>\n",
              "      <td>1</td>\n",
              "      <td>0.000000</td>\n",
              "      <td>1.000000</td>\n",
              "      <td>0.000000</td>\n",
              "      <td>0.000000</td>\n",
              "    </tr>\n",
              "    <tr>\n",
              "      <th>475753</th>\n",
              "      <td>zuurstok420goodbeer</td>\n",
              "      <td>1</td>\n",
              "      <td>0.000000</td>\n",
              "      <td>13.000000</td>\n",
              "      <td>0.000000</td>\n",
              "      <td>0.000000</td>\n",
              "    </tr>\n",
              "    <tr>\n",
              "      <th>475754</th>\n",
              "      <td>zwondingo</td>\n",
              "      <td>1</td>\n",
              "      <td>0.000000</td>\n",
              "      <td>0.000000</td>\n",
              "      <td>1.000000</td>\n",
              "      <td>0.000000</td>\n",
              "    </tr>\n",
              "    <tr>\n",
              "      <th>475755</th>\n",
              "      <td>zzer08ight</td>\n",
              "      <td>1</td>\n",
              "      <td>0.000000</td>\n",
              "      <td>0.000000</td>\n",
              "      <td>1.000000</td>\n",
              "      <td>0.000000</td>\n",
              "    </tr>\n",
              "    <tr>\n",
              "      <th>475756</th>\n",
              "      <td>zzlgaming1</td>\n",
              "      <td>1</td>\n",
              "      <td>0.000000</td>\n",
              "      <td>8.000000</td>\n",
              "      <td>1.000000</td>\n",
              "      <td>0.000000</td>\n",
              "    </tr>\n",
              "  </tbody>\n",
              "</table>\n",
              "<p>475757 rows × 6 columns</p>\n",
              "</div>"
            ],
            "text/plain": [
              "                      author  num_post  ...  ratio_removed  mean_awards\n",
              "0              AutoModerator      2403  ...       0.000416     0.902622\n",
              "1                 WSBVoteBot      1461  ...       0.000000     0.000000\n",
              "2               WSBConsensus       843  ...       0.020166     0.015421\n",
              "3               londonistani       549  ...       0.001821     0.000000\n",
              "4       StockPollsEnterprise       503  ...       0.007952     0.000000\n",
              "...                      ...       ...  ...            ...          ...\n",
              "475752                zuggra         1  ...       0.000000     0.000000\n",
              "475753   zuurstok420goodbeer         1  ...       0.000000     0.000000\n",
              "475754             zwondingo         1  ...       1.000000     0.000000\n",
              "475755            zzer08ight         1  ...       1.000000     0.000000\n",
              "475756            zzlgaming1         1  ...       1.000000     0.000000\n",
              "\n",
              "[475757 rows x 6 columns]"
            ]
          },
          "metadata": {
            "tags": []
          },
          "execution_count": 24
        }
      ]
    },
    {
      "cell_type": "markdown",
      "metadata": {
        "id": "O8jLq0uEjS1j"
      },
      "source": [
        "### **Modeling**"
      ]
    },
    {
      "cell_type": "markdown",
      "metadata": {
        "id": "-fX4AVADi8se"
      },
      "source": [
        "In this part we are going to explore the dataset with several models to reveal the interrelationship between the features and the post itself. Firstly we applied a tf-idf as preprocessing to get the weighted word frequency of the keywords for further exploration"
      ]
    },
    {
      "cell_type": "code",
      "metadata": {
        "id": "JUrClwihD0aF",
        "colab": {
          "base_uri": "https://localhost:8080/"
        },
        "outputId": "23a3bb19-88df-434e-f701-afa8f1eaba67"
      },
      "source": [
        "from nltk.tokenize import sent_tokenize\n",
        "import nltk.data\n",
        "from nltk.tokenize import word_tokenize\n",
        "nltk.download('punkt')\n",
        "sentence_tokenizer = nltk.data.load('tokenizers/punkt/english.pickle')\n",
        "\n",
        "from sklearn.model_selection import train_test_split\n",
        "from sklearn.preprocessing import StandardScaler\n",
        "from sklearn.linear_model import LogisticRegression\n",
        "from matplotlib.colors import ListedColormap\n",
        "import matplotlib.pyplot as plt\n",
        "from sklearn.linear_model import Ridge\n",
        "from sklearn.ensemble import AdaBoostClassifier\n",
        "from sklearn.tree import DecisionTreeClassifier"
      ],
      "execution_count": null,
      "outputs": [
        {
          "output_type": "stream",
          "text": [
            "[nltk_data] Downloading package punkt to /root/nltk_data...\n",
            "[nltk_data]   Package punkt is already up-to-date!\n"
          ],
          "name": "stdout"
        }
      ]
    },
    {
      "cell_type": "markdown",
      "metadata": {
        "id": "u0m3TlswjavR"
      },
      "source": [
        "Firstly we analized dataset2, the smaller dataset containg about 45k posts."
      ]
    },
    {
      "cell_type": "code",
      "metadata": {
        "id": "ypKCvcvQVfRw",
        "colab": {
          "base_uri": "https://localhost:8080/"
        },
        "outputId": "95930746-c364-49cf-a13f-83f507223047"
      },
      "source": [
        "# Keyword with most scores \n",
        "# TF-IDF (keyword scoring model)\n",
        "# Dataset 2\n",
        "\n",
        "from sklearn_pandas import DataFrameMapper, cross_val_score\n",
        "from sklearn.feature_extraction.text import TfidfVectorizer\n",
        "from sklearn.metrics import classification_report\n",
        "X = data_2_post['title'].fillna('')\n",
        "from nltk.corpus import stopwords\n",
        "\n",
        "\n",
        "\n",
        "import numpy as np\n",
        "import random\n",
        "import os\n",
        "import torch\n",
        "\n",
        "# set the random seed to ensure everyone can get the same result with the code\n",
        "def seed(seed=0):\n",
        "    random.seed(seed)\n",
        "    os.environ['PYTHONHASHSEED'] = str(seed)\n",
        "    np.random.seed(seed)\n",
        "    torch.manual_seed(seed)\n",
        "    torch.cuda.manual_seed(seed)\n",
        "    torch.backends.cudnn.benchmark = False\n",
        "    torch.backends.cudnn.deterministic = True\n",
        "    torch.backends.cudnn.enabled = False\n",
        "\n",
        "seed()\n",
        "\n",
        "# use max_df to filter common words like and, or, ect, and min_df to filter worthless words that showed up for less than a certain times\n",
        "all_stopwords = stopwords.words('english')\n",
        "\n",
        "vectorizer = TfidfVectorizer(max_df=0.1, min_df=0.0005, stop_words=all_stopwords)\n",
        "features = vectorizer.fit_transform(X)\n",
        "words = vectorizer.get_feature_names()\n",
        "\n",
        "print(words)\n",
        "\n",
        "# original dictionary length: 19861\n",
        "# after some filering\n",
        "print(len(words))\n",
        "\n",
        "# split the dataset\n",
        "label = data_2_post[['score', 'comms_num']]\n",
        "\n",
        "X_train,X_test,y_train,y_test = train_test_split(features,label,test_size=0.2,train_size=0.8, random_state = 0)\n",
        "\n",
        "del features"
      ],
      "execution_count": null,
      "outputs": [
        {
          "output_type": "stream",
          "text": [
            "['00', '000', '01', '02', '03', '05', '08', '09', '10', '100', '1000', '100k', '10k', '11', '12', '120', '12k', '13', '130', '14', '15', '150', '15k', '16', '17', '18', '19', '19th', '1k', '1m', '1st', '20', '200', '2000', '2008', '200k', '2020', '2021', '20k', '21', '212', '22', '23', '24', '25', '250', '25k', '26', '27', '28', '29', '2k', '30', '300', '30k', '31', '320', '33', '35', '350', '3k', '3rd', '40', '400', '401k', '40k', '42', '420', '45', '4k', '50', '500', '5000', '500k', '50k', '53', '55', '5g', '5k', '60', '600', '65', '69', '6k', '70', '700', '75', '7k', '80', '800', '85', '8k', '90', '99', '9th', 'aal', 'aapl', 'ability', 'able', 'aboard', 'absolute', 'absolutely', 'access', 'according', 'account', 'accounts', 'across', 'act', 'action', 'actions', 'activity', 'actual', 'actually', 'add', 'added', 'adding', 'advice', 'advisor', 'af', 'afford', 'afraid', 'ag', 'ago', 'agree', 'ah', 'ahead', 'aint', 'airlines', 'aka', 'alert', 'alive', 'allow', 'allowed', 'allowing', 'allows', 'ally', 'almost', 'alone', 'along', 'already', 'alright', 'also', 'alternative', 'alternatives', 'always', 'amazing', 'amazon', 'amc', 'amd', 'america', 'american', 'americans', 'ameritrade', 'amount', 'amzn', 'analysis', 'analyst', 'announces', 'another', 'anybody', 'anymore', 'anyone', 'anything', 'anyway', 'anywhere', 'aoc', 'ape', 'apes', 'apex', 'apha', 'app', 'apparently', 'apple', 'approved', 'apps', 'april', 'ark', 'army', 'around', 'article', 'articles', 'asap', 'ask', 'asked', 'asking', 'aso', 'ass', 'assets', 'assholes', 'attack', 'attacks', 'attempt', 'attention', 'australia', 'autism', 'autist', 'autistic', 'autists', 'available', 'average', 'averaged', 'averaging', 'avg', 'avoid', 'away', 'awesome', 'baba', 'baby', 'back', 'backs', 'bad', 'bag', 'bags', 'balance', 'balls', 'ban', 'banana', 'bananas', 'bank', 'bankrupt', 'banks', 'banned', 'based', 'basically', 'bastards', 'battle', 'bb', 'bbby', 'bbw', 'bear', 'bears', 'beat', 'beautiful', 'become', 'beginning', 'begun', 'behind', 'believe', 'bell', 'best', 'bet', 'bets', 'better', 'betting', 'beware', 'beyond', 'biden', 'big', 'bigger', 'biggest', 'bill', 'billboard', 'billion', 'billionaire', 'billionaires', 'billions', 'bit', 'bitch', 'bitches', 'black', 'blackberry', 'blatant', 'bleed', 'block', 'blocked', 'blocking', 'blocks', 'blood', 'bloomberg', 'blow', 'board', 'bois', 'book', 'boom', 'boomer', 'boomers', 'borrow', 'boss', 'bot', 'bots', 'bottom', 'bought', 'bounce', 'bout', 'boy', 'boycott', 'boyfriend', 'boys', 'brain', 'brained', 'brains', 'break', 'breaking', 'breakout', 'bring', 'broke', 'broken', 'broker', 'brokerage', 'brokerages', 'brokers', 'brother', 'brothers', 'brought', 'bs', 'btw', 'bubble', 'buckle', 'bucks', 'build', 'built', 'bull', 'bullish', 'bullshit', 'bunch', 'burn', 'burry', 'business', 'bust', 'button', 'buy', 'buyers', 'buying', 'buys', 'call', 'called', 'calling', 'calls', 'calm', 'came', 'canada', 'canadian', 'cancel', 'canceled', 'cancelled', 'cannabis', 'cannot', 'canoo', 'cant', 'cap', 'capital', 'car', 'card', 'care', 'careful', 'case', 'cash', 'cashapp', 'casino', 'catalyst', 'cathie', 'caught', 'cause', 'causing', 'ceo', 'certain', 'chamath', 'chance', 'change', 'changed', 'changes', 'changing', 'charles', 'chart', 'charts', 'chase', 'cheap', 'check', 'checking', 'citadel', 'citron', 'claims', 'class', 'clear', 'clearing', 'close', 'closed', 'closing', 'clov', 'club', 'cnbc', 'cnn', 'co', 'cohen', 'coin', 'college', 'color', 'com', 'come', 'comeback', 'comes', 'coming', 'comment', 'comments', 'community', 'companies', 'company', 'compared', 'comparison', 'complaint', 'complaints', 'complete', 'completely', 'congress', 'congressional', 'consider', 'contact', 'continue', 'continues', 'contract', 'contracts', 'control', 'cool', 'corp', 'correct', 'correction', 'corrupt', 'corsair', 'cost', 'could', 'count', 'country', 'couple', 'course', 'cover', 'covered', 'covering', 'covid', 'cramer', 'crash', 'crashing', 'crayon', 'crayons', 'crazy', 'create', 'created', 'credit', 'crsr', 'cruz', 'cry', 'crypto', 'ctrm', 'cuban', 'current', 'currently', 'customer', 'customers', 'cut', 'cuz', 'dad', 'daddy', 'daily', 'damn', 'dark', 'data', 'date', 'dave', 'day', 'days', 'dd', 'dead', 'deal', 'dear', 'death', 'debt', 'decide', 'decided', 'decision', 'deep', 'deepfuckingvalue', 'definitely', 'degenerates', 'degiro', 'delete', 'deliver', 'demand', 'deposit', 'deserve', 'desperate', 'despite', 'destroy', 'dfv', 'diamond', 'diamonds', 'dick', 'didnt', 'die', 'difference', 'different', 'dip', 'dipped', 'dipping', 'dips', 'direct', 'dirty', 'discord', 'discount', 'discuss', 'discussion', 'dividend', 'doge', 'dogecoin', 'dollar', 'dollars', 'donate', 'done', 'dont', 'double', 'doubled', 'doubling', 'doubt', 'dream', 'drive', 'driving', 'drop', 'dropped', 'dropping', 'drops', 'dtcc', 'due', 'dumb', 'duty', 'earlier', 'early', 'earnings', 'easy', 'eat', 'eating', 'edge', 'edition', 'effect', 'either', 'electric', 'elon', 'else', 'em', 'email', 'end', 'ended', 'endgame', 'enemy', 'energy', 'enjoy', 'enough', 'entire', 'epic', 'er', 'etc', 'etf', 'etfs', 'etoro', 'etrade', 'eu', 'europe', 'european', 'ev', 'even', 'event', 'events', 'ever', 'every', 'everybody', 'everyone', 'everything', 'evidence', 'exact', 'exactly', 'except', 'exchange', 'exercise', 'exit', 'expect', 'expected', 'experience', 'expire', 'expiring', 'explain', 'explained', 'explaining', 'explanation', 'expr', 'extra', 'extremely', 'eyes', 'face', 'fact', 'failed', 'fair', 'faith', 'fake', 'fall', 'falling', 'false', 'family', 'far', 'fast', 'fat', 'favorite', 'fear', 'feb', 'february', 'fed', 'federal', 'feel', 'feeling', 'feels', 'fellas', 'fellow', 'felt', 'fidelity', 'fight', 'fighting', 'figured', 'file', 'filed', 'filing', 'filled', 'final', 'finally', 'finance', 'financial', 'find', 'fine', 'finra', 'fire', 'firm', 'firms', 'first', 'flair', 'float', 'floor', 'flow', 'fly', 'flying', 'focus', 'folks', 'follow', 'following', 'fomo', 'fool', 'forbes', 'force', 'forced', 'ford', 'forever', 'forget', 'forgot', 'form', 'former', 'forward', 'found', 'founder', 'fractional', 'fraud', 'free', 'freetrade', 'frenzy', 'fresh', 'friday', 'friend', 'friendly', 'friends', 'front', 'fubo', 'fuck', 'fucked', 'fuckers', 'fuckin', 'fucking', 'fucks', 'fud', 'fuel', 'full', 'fully', 'fun', 'fund', 'fundamentals', 'funds', 'funny', 'future', 'futures', 'fyi', 'gain', 'gains', 'gainz', 'gambling', 'game', 'games', 'gamestonk', 'gamestop', 'gaming', 'gamma', 'gang', 'gave', 'gay', 'general', 'german', 'germany', 'get', 'gets', 'getting', 'girls', 'give', 'given', 'gives', 'giving', 'glad', 'global', 'glorious', 'go', 'goal', 'god', 'goes', 'goev', 'going', 'gold', 'golden', 'goldman', 'gone', 'gonna', 'good', 'google', 'gooo', 'gooooo', 'gorilla', 'got', 'gotta', 'government', 'grave', 'great', 'greatest', 'greedy', 'green', 'ground', 'group', 'growth', 'guess', 'guh', 'guide', 'guy', 'guys', 'half', 'halt', 'halted', 'halting', 'halts', 'hand', 'handed', 'handing', 'handle', 'hands', 'hang', 'happen', 'happened', 'happening', 'happens', 'happy', 'hard', 'hate', 'head', 'health', 'hear', 'heard', 'hearing', 'hearings', 'heart', 'heavy', 'hedge', 'hedgefunds', 'hedges', 'hedgies', 'held', 'hell', 'hello', 'help', 'helping', 'helps', 'hero', 'hey', 'hf', 'hfs', 'hi', 'high', 'higher', 'highest', 'history', 'hit', 'hits', 'hitting', 'hodl', 'hodling', 'hold', 'holder', 'holders', 'holding', 'holdings', 'holds', 'holy', 'home', 'honest', 'honestly', 'honor', 'hood', 'hope', 'hopefully', 'hoping', 'hot', 'hour', 'hours', 'house', 'https', 'huge', 'hurt', 'hurts', 'hype', 'ibkr', 'idea', 'idiot', 'idiots', 'idk', 'ignore', 'ill', 'illegal', 'im', 'imagine', 'immediately', 'important', 'inc', 'incoming', 'increase', 'increased', 'index', 'industry', 'infinity', 'inflation', 'info', 'information', 'insane', 'inside', 'insider', 'instant', 'instead', 'institutional', 'institutions', 'interactive', 'interest', 'interested', 'interesting', 'internet', 'interview', 'invest', 'invested', 'investing', 'investment', 'investments', 'investor', 'investors', 'involved', 'ipo', 'ira', 'irony', 'isnt', 'issue', 'issues', 'itm', 'jan', 'january', 'jim', 'job', 'join', 'joined', 'joining', 'joke', 'journey', 'jump', 'karma', 'keep', 'keeping', 'keeps', 'ken', 'kept', 'key', 'kids', 'kill', 'kind', 'king', 'knew', 'know', 'knows', 'koss', 'ladder', 'ladies', 'lads', 'land', 'large', 'largest', 'last', 'late', 'later', 'latest', 'launch', 'law', 'lawsuit', 'lawsuits', 'leaps', 'learn', 'learned', 'least', 'leave', 'leaving', 'left', 'legal', 'legend', 'legit', 'less', 'lesson', 'let', 'lets', 'letter', 'letting', 'level', 'lfg', 'lie', 'lies', 'life', 'lift', 'lifted', 'light', 'like', 'likely', 'likes', 'limit', 'limited', 'limiting', 'limits', 'line', 'lines', 'link', 'list', 'listen', 'literally', 'little', 'live', 'living', 'lmao', 'load', 'loaded', 'loan', 'local', 'locked', 'log', 'lol', 'long', 'longer', 'look', 'looking', 'looks', 'lose', 'losing', 'loss', 'losses', 'lost', 'lot', 'lots', 'love', 'low', 'lower', 'luck', 'lucky', 'lurker', 'lying', 'mad', 'made', 'main', 'major', 'make', 'makes', 'making', 'mama', 'man', 'managed', 'management', 'manipulate', 'manipulated', 'manipulating', 'manipulation', 'many', 'mar', 'march', 'margin', 'mark', 'market', 'markets', 'mars', 'mass', 'massive', 'math', 'matter', 'may', 'maybe', 'mean', 'means', 'media', 'meet', 'meeting', 'megathread', 'melvin', 'member', 'members', 'meme', 'memes', 'men', 'mentioned', 'merger', 'merrill', 'message', 'michael', 'mid', 'middle', 'might', 'million', 'millionaire', 'millions', 'mind', 'mine', 'minute', 'minutes', 'miss', 'missed', 'missing', 'moass', 'mobile', 'mod', 'mods', 'mom', 'moment', 'momentum', 'monday', 'money', 'monkey', 'month', 'months', 'moon', 'morgan', 'morning', 'mortgage', 'mother', 'motivation', 'move', 'moved', 'movement', 'moves', 'movie', 'movies', 'moving', 'mr', 'much', 'multi', 'multiple', 'musk', 'must', 'mvis', 'nakd', 'naked', 'name', 'narrative', 'nasdaq', 'near', 'nearly', 'need', 'needed', 'needs', 'negative', 'net', 'never', 'new', 'newbie', 'news', 'next', 'nice', 'night', 'nio', 'nobody', 'nok', 'nokia', 'non', 'noob', 'normal', 'note', 'nothing', 'notice', 'number', 'numbers', 'nuts', 'nvax', 'nyse', 'obvious', 'official', 'officially', 'oh', 'oil', 'ok', 'okay', 'old', 'one', 'ones', 'online', 'onto', 'open', 'opened', 'opening', 'opinion', 'opportunity', 'option', 'options', 'order', 'orders', 'original', 'others', 'otm', 'outside', 'overnight', 'owned', 'ownership', 'owns', 'page', 'paid', 'pain', 'palantir', 'pandemic', 'panic', 'pants', 'papa', 'paper', 'parents', 'part', 'partners', 'party', 'pass', 'past', 'pattern', 'pay', 'paying', 'payment', 'peak', 'pending', 'penny', 'people', 'per', 'perfect', 'person', 'personal', 'perspective', 'petition', 'phone', 'pick', 'picked', 'picking', 'picture', 'place', 'placed', 'plan', 'planning', 'plans', 'platform', 'platforms', 'play', 'played', 'players', 'playing', 'plays', 'please', 'pls', 'pltr', 'plug', 'plus', 'pluto', 'point', 'political', 'poor', 'pop', 'porn', 'portfolio', 'portnoy', 'position', 'positions', 'positive', 'possible', 'possibly', 'post', 'posted', 'posting', 'posts', 'potential', 'power', 'pre', 'premarket', 'prepare', 'pressure', 'pretty', 'preventing', 'previous', 'price', 'prices', 'print', 'probably', 'problem', 'process', 'profit', 'profits', 'promised', 'proof', 'protect', 'proud', 'prove', 'psa', 'pt', 'public', 'pull', 'pulled', 'pulling', 'purchase', 'purchased', 'purchases', 'purchasing', 'pure', 'push', 'pushing', 'pussy', 'put', 'puts', 'putting', 'qqqj', 'quarter', 'question', 'questions', 'quick', 'quit', 'raise', 'raised', 'rally', 'rate', 'rates', 'rather', 'rating', 'ratings', 'ratio', 'rblx', 'reach', 'read', 'reading', 'ready', 'real', 'reality', 'realize', 'realized', 'really', 'reason', 'rebound', 'received', 'recent', 'record', 'recover', 'recovery', 'red', 'reddit', 'redditors', 'regarding', 'regret', 'remember', 'reminder', 'remove', 'removed', 'repeat', 'report', 'reporting', 'reports', 'repost', 'republic', 'request', 'research', 'response', 'rest', 'restrict', 'restricted', 'restricting', 'restriction', 'restrictions', 'results', 'retail', 'retard', 'retarded', 'retards', 'return', 'returns', 'revenge', 'revenue', 'reverse', 'review', 'reviews', 'revolut', 'revolution', 'rh', 'rich', 'ride', 'riding', 'rigged', 'right', 'rights', 'riot', 'rip', 'rise', 'rising', 'risk', 'rkt', 'rn', 'road', 'robin', 'robinhood', 'roblox', 'rock', 'rocket', 'rockets', 'room', 'roth', 'rough', 'round', 'rule', 'rules', 'run', 'running', 'ryan', 's3', 'sad', 'safe', 'saga', 'said', 'sale', 'sales', 'sava', 'save', 'saved', 'saving', 'savings', 'saw', 'say', 'saying', 'says', 'scare', 'scared', 'school', 'schwab', 'screen', 'screenshot', 'screenshots', 'screw', 'screwed', 'search', 'sec', 'second', 'securities', 'see', 'seeing', 'seem', 'seems', 'seen', 'self', 'sell', 'sellers', 'selling', 'sells', 'send', 'sending', 'sense', 'sent', 'sentiment', 'serious', 'seriously', 'service', 'services', 'set', 'shake', 'shall', 'share', 'shareholder', 'shareholders', 'shares', 'shills', 'ship', 'shit', 'short', 'shorted', 'shorters', 'shorting', 'shorts', 'shot', 'show', 'showing', 'shows', 'shut', 'si', 'sick', 'side', 'sign', 'silver', 'similar', 'simple', 'since', 'single', 'sisters', 'sit', 'site', 'sitting', 'situation', 'skt', 'sleep', 'slv', 'small', 'smart', 'smooth', 'sndl', 'social', 'sofi', 'sold', 'solid', 'somebody', 'someone', 'something', 'song', 'soon', 'sorry', 'sound', 'source', 'south', 'space', 'spce', 'special', 'spend', 'spent', 'spike', 'spread', 'spy', 'squeeze', 'squeezes', 'squeezing', 'squoze', 'st', 'stake', 'stand', 'star', 'start', 'started', 'starting', 'starts', 'stash', 'state', 'statement', 'stay', 'steady', 'steal', 'step', 'stick', 'still', 'stimmy', 'stimulus', 'stock', 'stocks', 'stonk', 'stonks', 'stop', 'stopped', 'stopping', 'store', 'story', 'straight', 'strategy', 'street', 'strike', 'strong', 'stronger', 'stuck', 'student', 'stuff', 'stupid', 'sub', 'subreddit', 'suck', 'sucks', 'sue', 'suit', 'suits', 'sundial', 'super', 'support', 'supported', 'supporting', 'supports', 'supposed', 'sure', 'surge', 'suspended', 'sweet', 'swing', 'switch', 'switching', 'system', 'tactics', 'take', 'taken', 'takes', 'taking', 'talk', 'talking', 'tank', 'tanking', 'tards', 'target', 'tastyworks', 'tattoo', 'tax', 'taxes', 'td', 'tda', 'team', 'tech', 'technical', 'technology', 'ted', 'tell', 'telling', 'tendie', 'tendies', 'term', 'tesla', 'texas', 'thank', 'thanks', 'thats', 'theaters', 'theory', 'thesis', 'thing', 'things', 'think', 'thinking', 'thinks', 'tho', 'though', 'thought', 'thoughts', 'thread', 'three', 'threw', 'throw', 'thursday', 'ticker', 'tickers', 'ticket', 'tickets', 'tight', 'til', 'till', 'time', 'times', 'tip', 'tired', 'tlry', 'today', 'together', 'told', 'tomorrow', 'tonight', 'took', 'top', 'total', 'totally', 'track', 'trade', 'traded', 'trader', 'traders', 'trades', 'trading', 'trading212', 'train', 'transfer', 'transferring', 'trend', 'trending', 'tried', 'trigger', 'true', 'truly', 'trust', 'truth', 'try', 'trying', 'tsla', 'tuesday', 'turn', 'turned', 'turning', 'turns', 'tv', 'tweet', 'twitter', 'two', 'uk', 'unable', 'understand', 'undervalued', 'unfi', 'unite', 'united', 'unless', 'unpinned', 'upcoming', 'update', 'updated', 'upside', 'upvote', 'us', 'usd', 'use', 'used', 'user', 'users', 'using', 'uwmc', 'vaccine', 'valhalla', 'value', 'vanguard', 'version', 'via', 'viac', 'video', 'view', 'virgin', 'vlad', 'volatility', 'volkswagen', 'volume', 'vote', 'vs', 'vw', 'wait', 'waiting', 'wall', 'wallstreet', 'wallstreetbets', 'wanna', 'want', 'wanted', 'wants', 'war', 'warning', 'warren', 'watch', 'watching', 'wave', 'way', 'ways', 'weak', 'wealth', 'wealthsimple', 'website', 'webull', 'wednesday', 'weed', 'week', 'weekend', 'weekly', 'weeks', 'weird', 'welcome', 'well', 'went', 'whatever', 'whats', 'whether', 'white', 'whole', 'wife', 'wild', 'willing', 'win', 'winning', 'wish', 'within', 'without', 'wkhs', 'woke', 'wonder', 'wont', 'wood', 'word', 'words', 'work', 'working', 'works', 'world', 'worried', 'worry', 'worse', 'worst', 'worth', 'worthless', 'would', 'wow', 'write', 'wrong', 'wsb', 'wsj', 'wtf', 'xl', 'ya', 'yahoo', 'yall', 'yeah', 'year', 'years', 'yellen', 'yes', 'yesterday', 'yet', 'yo', 'yolo', 'york', 'young', 'zero', 'zom']\n",
            "1732\n"
          ],
          "name": "stdout"
        }
      ]
    },
    {
      "cell_type": "code",
      "metadata": {
        "colab": {
          "base_uri": "https://localhost:8080/"
        },
        "id": "Bf2F1WlSjn8j",
        "outputId": "db72403c-028b-43cb-e8f2-56f618f006f3"
      },
      "source": [
        "X_train.shape"
      ],
      "execution_count": null,
      "outputs": [
        {
          "output_type": "execute_result",
          "data": {
            "text/plain": [
              "(36338, 1732)"
            ]
          },
          "metadata": {
            "tags": []
          },
          "execution_count": 43
        }
      ]
    },
    {
      "cell_type": "markdown",
      "metadata": {
        "id": "uFcGrebeeJiW"
      },
      "source": [
        "Since the feature is high dimensional, i firstly tried apply pca upon it to see if there will be any benefit, however it seems that pca will only make things worse, since we got a correspondense of 0.65 between prediction and ground truth without pca, but a correspondense of 0.06 with it.(Ridge regression) Therefore no PCA will be conducted to the features in our further experiment."
      ]
    },
    {
      "cell_type": "code",
      "metadata": {
        "id": "xCk7496J745N"
      },
      "source": [
        "from sklearn.decomposition import PCA\n",
        "from sklearn.decomposition import SparsePCA\n",
        "\n",
        "# pca = PCA(n_components=32)\n",
        "# pca = SparsePCA(n_components=32, random_state=0)\n",
        "# pca.fit(X_train.toarray())\n",
        "# X_train = pca.transform(X_train.toarray())\n",
        "# X_test = pca.transform(X_test.toarray())\n",
        "\n",
        "# preprocess the data and prepare them for the models\n",
        "X_train = X_train.toarray()\n",
        "X_test = X_test.toarray()\n",
        "\n",
        "y_train = y_train.to_numpy()\n",
        "y_test = y_test.to_numpy()\n",
        "\n",
        "score_train = y_train[:,0]\n",
        "comments_train = y_train[:,1]\n",
        "\n",
        "score_test = y_test[:,0]\n",
        "comments_test = y_test[:,1]"
      ],
      "execution_count": null,
      "outputs": []
    },
    {
      "cell_type": "markdown",
      "metadata": {
        "id": "8UD-xx-cj4SC"
      },
      "source": [
        "After some simple preprocessing, I applied ridge regression upon the dataset to see if we can predict the score that a post would get given its title using the ridge regression algorithm"
      ]
    },
    {
      "cell_type": "code",
      "metadata": {
        "id": "AlI4W28vEmJD",
        "colab": {
          "base_uri": "https://localhost:8080/"
        },
        "outputId": "4712c567-2a5c-4b6b-d60a-8e6ac204863e"
      },
      "source": [
        "# ridge regression\n",
        "# predict score/ number of response\n",
        "\n",
        "ri = Ridge(alpha=0.5)\n",
        "ri.fit(X_train, y_train)\n",
        "y_pred = ri.predict(X_test)\n",
        "\n",
        "corr_1 = np.corrcoef(y_pred[:,0],y_test[:,0])[0,1]\n",
        "corr_2 = np.corrcoef(y_pred[:,1],y_test[:,1])[0,1]\n",
        "# print(corr_1, corr_2)\n",
        "print('Correlation coefficients of the predicted score a post will get and the ground truth:')\n",
        "print(corr_1)\n",
        "print('Correlation coefficients of the number of responses a post will get and the ground truth:')\n",
        "print(corr_2)"
      ],
      "execution_count": null,
      "outputs": [
        {
          "output_type": "stream",
          "text": [
            "Correlation coefficients of the predicted score a post will get and the ground truth:\n",
            "0.12789195654141988\n",
            "Correlation coefficients of the number of responses a post will get and the ground truth:\n",
            "0.6505743228652913\n"
          ],
          "name": "stdout"
        }
      ]
    },
    {
      "cell_type": "markdown",
      "metadata": {
        "id": "fGQiG9hwkNWN"
      },
      "source": [
        "Since its a regression task, we dicide to use the  correlation coefficients as the evalution matric to evaluate how good the model is. It seems that the title, or at least the keywords have little to do with the score of a post, but have great influence upon the number of responses that a post will get. Here are some examples."
      ]
    },
    {
      "cell_type": "code",
      "metadata": {
        "colab": {
          "base_uri": "https://localhost:8080/"
        },
        "id": "kJcLaA6qlTRA",
        "outputId": "c2626007-032e-4a50-9f41-2b48f7c68d43"
      },
      "source": [
        "# lowest predicted posts: no.5201 5738 7608\n",
        "# highest predicted posts: no.3393 7718 7290\n",
        "\n",
        "print('posts that is predicted to get a lot of responses:')\n",
        "\n",
        "for idx in [3393, 7718, 7290]:\n",
        "  post = data_2_post.loc[idx][['title', 'score',\t'comms_num']].to_list()\n",
        "  print('title:', post[0],'score:', post[1],'responses:',post[2])\n",
        "  print('\\n')\n",
        "  print('predicted score:', int(y_pred[idx,0]), 'predicted responses:' , int(y_pred[idx,1]))\n",
        "  print('---------')\n",
        "\n",
        "print('\\n\\n\\n')  \n",
        "print('posts that is predicted to be ignored:')\n",
        "\n",
        "for idx in [5201, 5738, 7608]:\n",
        "  post = data_2_post.loc[idx][['title', 'score',\t'comms_num']].to_list()\n",
        "  print('title:', post[0],'score:', post[1],'responses:',post[2])\n",
        "  print('\\n')\n",
        "  print('predicted score:', int(y_pred[idx,0]), 'predicted responses:' , int(y_pred[idx,1]))\n",
        "  print('---------')"
      ],
      "execution_count": null,
      "outputs": [
        {
          "output_type": "stream",
          "text": [
            "posts that is predicted to get a lot of responses:\n",
            "title: I’m tired of people saying “it’s okay to sell, we have to respect those who want off this ride”. FUCKIN RIDE OR DIE, DIAMOND HANDS BABY 💎🙌👶 🚀🚀🚀 score: 1979 responses: 153\n",
            "\n",
            "\n",
            "predicted score: 18557 predicted responses: 31500\n",
            "---------\n",
            "title: AMRS Gains March 22, 2021 score: 389 responses: 70\n",
            "\n",
            "\n",
            "predicted score: 18557 predicted responses: 31500\n",
            "---------\n",
            "title: \"An empire toppled by its enemies can rise again, but one which crumbles from within - that's dead forever.\" score: 433 responses: 26\n",
            "\n",
            "\n",
            "predicted score: 15895 predicted responses: 31765\n",
            "---------\n",
            "\n",
            "\n",
            "\n",
            "\n",
            "posts that is predicted to be ignored:\n",
            "title: The Super Squeeze: Media Day score: 829 responses: 37\n",
            "\n",
            "\n",
            "predicted score: -5912 predicted responses: -5056\n",
            "---------\n",
            "title: In Germany we dont say sell - we say hold💎🦍 score: 679 responses: 33\n",
            "\n",
            "\n",
            "predicted score: -3646 predicted responses: -4364\n",
            "---------\n",
            "title: Hodlers gonna hodl! score: 400 responses: 23\n",
            "\n",
            "\n",
            "predicted score: -2924 predicted responses: -4109\n",
            "---------\n"
          ],
          "name": "stdout"
        }
      ]
    },
    {
      "cell_type": "markdown",
      "metadata": {
        "id": "gvm86sbvnvLu"
      },
      "source": [
        "As we can see, the posts that are prediceted to be welcoming actually received lots of responses, and vice versa, though the magnitude of the prediction is exaggerate and inrealistic (because we are showing the extreme examples). And we can also observe that those hot posts are actually all about a specific and attracting topic, like complaining about advertisements or information about stock, etc."
      ]
    },
    {
      "cell_type": "markdown",
      "metadata": {
        "id": "DMqKjcc_pEqS"
      },
      "source": [
        "The next model we tried is a multi layer neural net, which has three linear layers and uses prelu as the activation funcion, and batchnormalization to prevent overfit and backprop problems. To train the network, we used MSE (mean square error) loss and Adam optimizer with a initial learning rate of 0.01"
      ]
    },
    {
      "cell_type": "code",
      "metadata": {
        "id": "76E7HEUlICgc"
      },
      "source": [
        "# neural net\n",
        "# predict score/ number of response/ stock prize/ possibility of being removed\n",
        "\n",
        "import torch\n",
        "import torchvision\n",
        "import torch.nn as nn\n",
        "import torch.nn.functional as F\n",
        "from torch.utils.data import DataLoader\n",
        "from torch.utils.data import TensorDataset\n",
        "\n",
        "class net(nn.Module):\n",
        "    def __init__(self, input_dim, output_dim):\n",
        "        super(net, self).__init__()\n",
        "        self.input_dim = input_dim\n",
        "        self.output_dim = output_dim\n",
        "        self.l1 = nn.Sequential(\n",
        "            nn.BatchNorm1d(self.input_dim),\n",
        "            torch.nn.Linear(input_dim, 128),\n",
        "            nn.PReLU(),\n",
        "            nn.BatchNorm1d(128),\n",
        "         )\n",
        "        self.l2 = nn.Sequential(\n",
        "            torch.nn.Linear(128, 64),\n",
        "            nn.PReLU(),\n",
        "            nn.BatchNorm1d(64),\n",
        "         )\n",
        "        self.l3 = nn.Sequential(\n",
        "            torch.nn.Linear(64, self.output_dim),\n",
        "         )\n",
        "        self.relu = nn.Sequential(\n",
        "            nn.ReLU(inplace=True),\n",
        "         )\n",
        "\n",
        "    def forward(self, x):\n",
        "        x = self.l1(x)\n",
        "        x = self.l2(x)\n",
        "        x = self.l3(x)\n",
        "        # x = x.view(x.shape[0],-1)\n",
        "        y_pred = self.relu(x)\n",
        "        return y_pred\n",
        "\n",
        "\n",
        "input_dim = X_train.shape[1]### fill in the input dim\n",
        "\n",
        "# function to train a network\n",
        "def train_model(model, optimizer, criterion, epochs=100, report_frequency = 1):\n",
        "    \n",
        "    model.to(device)\n",
        "    model.train()\n",
        "\n",
        "    loss_list = []\n",
        "    for epoch in range(epochs):\n",
        "      num = 0\n",
        "      epoch_loss = None \n",
        "      for data, label in train_loader:\n",
        "        data = data.to(device)\n",
        "        label = label.to(device)\n",
        "        pred = model(data)     \n",
        "        loss = criterion(pred, label).sum()\n",
        "        optimizer.zero_grad()\n",
        "        loss.backward()\n",
        "        optimizer.step()\n",
        "        try:\n",
        "          epoch_loss += loss.item()\n",
        "        except:\n",
        "          epoch_loss = loss.item()\n",
        "\n",
        "\n",
        "        num += label.shape[0]\n",
        "\n",
        "      loss_list.append(epoch_loss/num)\n",
        "      if epoch%report_frequency ==report_frequency-1:\n",
        "        print('epoch: ', epoch + 1, ' loss: ', epoch_loss/num)\n",
        "\n",
        "    final_training_loss = loss_list[-1]\n",
        "    return model, loss_list\n",
        "\n",
        "device = torch.device(\"cuda:0\" if torch.cuda.is_available() else \"cpu\")\n",
        "criterion = torch.nn.MSELoss(reduce=False, size_average=False)"
      ],
      "execution_count": null,
      "outputs": []
    },
    {
      "cell_type": "markdown",
      "metadata": {
        "id": "63EwU-Agpu5Z"
      },
      "source": [
        "Build the dataloader and train the network for 100 epochs:"
      ]
    },
    {
      "cell_type": "code",
      "metadata": {
        "id": "See0Z-0HnPQI",
        "colab": {
          "base_uri": "https://localhost:8080/"
        },
        "outputId": "b10159a5-d6e9-4ab1-9df0-1a366c2649b2"
      },
      "source": [
        "seed(1)\n",
        "\n",
        "# train the model for 100 epochs\n",
        "train_loader =  DataLoader(TensorDataset(torch.tensor(X_train).float(),torch.tensor(y_train).float()),shuffle = True,batch_size=512)\n",
        "test_loader =  DataLoader(TensorDataset(torch.tensor(X_test).float(),torch.tensor(y_test).float()),shuffle = False,batch_size=128)\n",
        "\n",
        "nn_model = net(input_dim, 2)\n",
        "nn_optimizer = torch.optim.Adam(nn_model.parameters(), lr=1e-2)\n",
        "\n",
        "model, loss_list = train_model(nn_model, nn_optimizer, criterion, 100, 10)"
      ],
      "execution_count": null,
      "outputs": [
        {
          "output_type": "stream",
          "text": [
            "epoch:  10  loss:  53097354.969013155\n",
            "epoch:  20  loss:  31315566.493257746\n",
            "epoch:  30  loss:  25628431.71732071\n",
            "epoch:  40  loss:  21870845.724475756\n",
            "epoch:  50  loss:  19405830.326380096\n",
            "epoch:  60  loss:  17887255.882437117\n",
            "epoch:  70  loss:  16970283.55550663\n",
            "epoch:  80  loss:  17163830.528042268\n",
            "epoch:  90  loss:  16019187.400077054\n",
            "epoch:  100  loss:  15233211.424294127\n"
          ],
          "name": "stdout"
        }
      ]
    },
    {
      "cell_type": "markdown",
      "metadata": {
        "id": "--OAbLTArNSD"
      },
      "source": [
        "The training loss curve:"
      ]
    },
    {
      "cell_type": "code",
      "metadata": {
        "colab": {
          "base_uri": "https://localhost:8080/",
          "height": 301
        },
        "id": "y-9rwm-Yq_1-",
        "outputId": "c5476ee7-d7fe-4dd1-846b-99252a3dc852"
      },
      "source": [
        "epochs = torch.linspace(1,100,100)\n",
        "plt.figure()\n",
        "plt.plot(epochs, loss_list)\n",
        "plt.xlabel('epochs')\n",
        "plt.ylabel('training loss')\n",
        "plt.title('training loss curve')\n",
        "plt.show()"
      ],
      "execution_count": null,
      "outputs": [
        {
          "output_type": "display_data",
          "data": {
            "image/png": "[encoded data removed]",
            "text/plain": [
              "<Figure size 432x288 with 1 Axes>"
            ]
          },
          "metadata": {
            "tags": []
          }
        }
      ]
    },
    {
      "cell_type": "markdown",
      "metadata": {
        "id": "jL_W5roDrPuh"
      },
      "source": [
        "Test the model and check the correspondence between the prediction and the ground truth."
      ]
    },
    {
      "cell_type": "code",
      "metadata": {
        "colab": {
          "base_uri": "https://localhost:8080/"
        },
        "id": "l2J9_uzCu2kc",
        "outputId": "1de1b29b-5bfb-41fe-9704-4634e4be6ad3"
      },
      "source": [
        "# function to test a model\n",
        "\n",
        "def test_model(model, criterion):\n",
        "    model.eval()\n",
        "\n",
        "    testing_loss = 0\n",
        "    num = 0\n",
        "    predcitons = []\n",
        "    with torch.no_grad():\n",
        "      for data, label in test_loader:\n",
        "        data = data.to(device)\n",
        "        label = label.to(device)\n",
        "        pred = model(data)\n",
        "        loss = criterion(pred, label).sum()\n",
        "        testing_loss += loss.item()\n",
        "        num += label.shape[0]\n",
        "        predcitons.append(pred)\n",
        "    testing_loss /= num\n",
        "    return  testing_loss, torch.cat(predcitons)\n",
        "\n",
        "testing_loss, predcitons = test_model(model, criterion)\n",
        "\n",
        "\n",
        "corr_1 = np.corrcoef(predcitons[:,0],y_test[:,0])[0,1]\n",
        "corr_2 = np.corrcoef(predcitons[:,1],y_test[:,1])[0,1]\n",
        "print('Correlation coefficients of the predicted score a post will get and the ground truth:')\n",
        "print(corr_1)\n",
        "print('Correlation coefficients of the number of responses a post will get and the ground truth:')\n",
        "print(corr_2)"
      ],
      "execution_count": null,
      "outputs": [
        {
          "output_type": "stream",
          "text": [
            "Correlation coefficients of the predicted score a post will get and the ground truth:\n",
            "0.07230480545759127\n",
            "Correlation coefficients of the number of responses a post will get and the ground truth:\n",
            "0.7139044694635915\n"
          ],
          "name": "stdout"
        }
      ]
    },
    {
      "cell_type": "markdown",
      "metadata": {
        "id": "iQKZibYIrjUt"
      },
      "source": [
        "As we can see, the model still learns little about the score of a post, but performs better in predicting the number of responses of a post (improved by about 0.06). We print out some examples."
      ]
    },
    {
      "cell_type": "code",
      "metadata": {
        "colab": {
          "base_uri": "https://localhost:8080/"
        },
        "id": "XG1o6g5drzTt",
        "outputId": "63ddc9dd-41a5-49b0-8df1-68f5137b7f4f"
      },
      "source": [
        "print('posts that is predicted to get a lot of responses:')\n",
        "\n",
        "for idx in [7290, 2468, 5256]:\n",
        "  print(idx)\n",
        "  post = data_2_post.loc[idx][['title', 'score', 'comms_num']].to_list()\n",
        "  print('title:', post[0],'score:', post[1],'responses:',post[2])\n",
        "  print('\\n')\n",
        "  print('predicted score:', int(predcitons[idx,0]), 'predicted responses:' , int(predcitons[idx,1]))\n",
        "  print('---------')\n",
        "\n",
        "print('\\n\\n\\n')  \n",
        "print('posts that is predicted to be ignored:')\n",
        "\n",
        "for idx in [  0, 5870, 5869]:\n",
        "  post = data_2_post.loc[idx][['title', 'score', 'comms_num']].to_list()\n",
        "  print('title:', post[0],'score:', post[1],'responses:',post[2])\n",
        "  print('\\n')\n",
        "  print('predicted score:', int(predcitons[idx,0]), 'predicted responses:' , int(predcitons[idx,1]))\n",
        "  print('---------')"
      ],
      "execution_count": null,
      "outputs": [
        {
          "output_type": "stream",
          "text": [
            "posts that is predicted to get a lot of responses:\n",
            "7290\n",
            "title: \"An empire toppled by its enemies can rise again, but one which crumbles from within - that's dead forever.\" score: 433 responses: 26\n",
            "\n",
            "\n",
            "predicted score: 31438 predicted responses: 106028\n",
            "---------\n",
            "2468\n",
            "title: $GME and $RKT SHORT SELLING NOT ALLOWED ON TD score: 3809 responses: 922\n",
            "\n",
            "\n",
            "predicted score: 37735 predicted responses: 110364\n",
            "---------\n",
            "5256\n",
            "title: $CRSR Corsair DD / Earnings play score: 810 responses: 89\n",
            "\n",
            "\n",
            "predicted score: 29864 predicted responses: 212015\n",
            "---------\n",
            "\n",
            "\n",
            "\n",
            "\n",
            "posts that is predicted to be ignored:\n",
            "title: Times Square right now score: 348241 responses: 11554\n",
            "\n",
            "\n",
            "predicted score: 0 predicted responses: 0\n",
            "---------\n",
            "title: This was just funny! Texans, VOTE GONZALEZ!!! score: 652 responses: 46\n",
            "\n",
            "\n",
            "predicted score: 0 predicted responses: 0\n",
            "---------\n",
            "title: I’m very pissed. But I bought 20 more shares today. I’m not fucking. Selling ... period. If we’re wrong we’re wrong, I feel like Jordan Belford and mark cuban are tryna signal us to stay strong cuz doomsday is near. And it’s bigger than we think it is. THEY NOT GONNA GO DOWN WITHOUT A FIGHT score: 652 responses: 79\n",
            "\n",
            "\n",
            "predicted score: 0 predicted responses: 0\n",
            "---------\n"
          ],
          "name": "stdout"
        }
      ]
    },
    {
      "cell_type": "markdown",
      "metadata": {
        "id": "xTkpvpC1s7Ef"
      },
      "source": [
        "As we can see, two models actually gets quite similar results, as the attracting topics about stocks and phelosophy gets high predictions, and adverts and long boring stories get poor predictions."
      ]
    },
    {
      "cell_type": "markdown",
      "metadata": {
        "id": "T0kzZRyPtVHv"
      },
      "source": [
        "Now we look at the dataset1, the larger dataset which have about 1 million posts from about 470 thousand authors. For this dataset we analized the interrelationship among five of its featurs: number of post from an author, the average score, comments the author get per post, how many of his/her post were removed and the average award that the author get per post."
      ]
    },
    {
      "cell_type": "markdown",
      "metadata": {
        "id": "2kyCRIVst_ux"
      },
      "source": [
        "Fristly lets glance at the dataset, it can be seen that most authors actually only posted 1 post."
      ]
    },
    {
      "cell_type": "code",
      "metadata": {
        "colab": {
          "base_uri": "https://localhost:8080/",
          "height": 419
        },
        "id": "hJI_VFjd67gy",
        "outputId": "e1048b23-5ba7-4f32-a262-c642dfa97ecf"
      },
      "source": [
        "data_1_author"
      ],
      "execution_count": null,
      "outputs": [
        {
          "output_type": "execute_result",
          "data": {
            "text/html": [
              "<div>\n",
              "<style scoped>\n",
              "    .dataframe tbody tr th:only-of-type {\n",
              "        vertical-align: middle;\n",
              "    }\n",
              "\n",
              "    .dataframe tbody tr th {\n",
              "        vertical-align: top;\n",
              "    }\n",
              "\n",
              "    .dataframe thead th {\n",
              "        text-align: right;\n",
              "    }\n",
              "</style>\n",
              "<table border=\"1\" class=\"dataframe\">\n",
              "  <thead>\n",
              "    <tr style=\"text-align: right;\">\n",
              "      <th></th>\n",
              "      <th>author</th>\n",
              "      <th>num_post</th>\n",
              "      <th>mean_score</th>\n",
              "      <th>mean_comms</th>\n",
              "      <th>ratio_removed</th>\n",
              "      <th>mean_awards</th>\n",
              "    </tr>\n",
              "  </thead>\n",
              "  <tbody>\n",
              "    <tr>\n",
              "      <th>0</th>\n",
              "      <td>Lansman</td>\n",
              "      <td>1</td>\n",
              "      <td>107196.0</td>\n",
              "      <td>6810.0</td>\n",
              "      <td>0.0</td>\n",
              "      <td>571.0</td>\n",
              "    </tr>\n",
              "    <tr>\n",
              "      <th>1</th>\n",
              "      <td>Greenzone51</td>\n",
              "      <td>1</td>\n",
              "      <td>97512.0</td>\n",
              "      <td>5435.0</td>\n",
              "      <td>1.0</td>\n",
              "      <td>431.0</td>\n",
              "    </tr>\n",
              "    <tr>\n",
              "      <th>2</th>\n",
              "      <td>Darlink23</td>\n",
              "      <td>1</td>\n",
              "      <td>91846.0</td>\n",
              "      <td>4539.0</td>\n",
              "      <td>0.0</td>\n",
              "      <td>334.0</td>\n",
              "    </tr>\n",
              "    <tr>\n",
              "      <th>3</th>\n",
              "      <td>chubbygroundhog</td>\n",
              "      <td>1</td>\n",
              "      <td>90444.0</td>\n",
              "      <td>2361.0</td>\n",
              "      <td>0.0</td>\n",
              "      <td>445.0</td>\n",
              "    </tr>\n",
              "    <tr>\n",
              "      <th>4</th>\n",
              "      <td>HistoryGuardian</td>\n",
              "      <td>1</td>\n",
              "      <td>71796.0</td>\n",
              "      <td>4379.0</td>\n",
              "      <td>0.0</td>\n",
              "      <td>173.0</td>\n",
              "    </tr>\n",
              "    <tr>\n",
              "      <th>...</th>\n",
              "      <td>...</td>\n",
              "      <td>...</td>\n",
              "      <td>...</td>\n",
              "      <td>...</td>\n",
              "      <td>...</td>\n",
              "      <td>...</td>\n",
              "    </tr>\n",
              "    <tr>\n",
              "      <th>475752</th>\n",
              "      <td>zuggra</td>\n",
              "      <td>1</td>\n",
              "      <td>0.0</td>\n",
              "      <td>1.0</td>\n",
              "      <td>0.0</td>\n",
              "      <td>0.0</td>\n",
              "    </tr>\n",
              "    <tr>\n",
              "      <th>475753</th>\n",
              "      <td>zuurstok420goodbeer</td>\n",
              "      <td>1</td>\n",
              "      <td>0.0</td>\n",
              "      <td>13.0</td>\n",
              "      <td>0.0</td>\n",
              "      <td>0.0</td>\n",
              "    </tr>\n",
              "    <tr>\n",
              "      <th>475754</th>\n",
              "      <td>zwondingo</td>\n",
              "      <td>1</td>\n",
              "      <td>0.0</td>\n",
              "      <td>0.0</td>\n",
              "      <td>1.0</td>\n",
              "      <td>0.0</td>\n",
              "    </tr>\n",
              "    <tr>\n",
              "      <th>475755</th>\n",
              "      <td>zzer08ight</td>\n",
              "      <td>1</td>\n",
              "      <td>0.0</td>\n",
              "      <td>0.0</td>\n",
              "      <td>1.0</td>\n",
              "      <td>0.0</td>\n",
              "    </tr>\n",
              "    <tr>\n",
              "      <th>475756</th>\n",
              "      <td>zzlgaming1</td>\n",
              "      <td>1</td>\n",
              "      <td>0.0</td>\n",
              "      <td>8.0</td>\n",
              "      <td>1.0</td>\n",
              "      <td>0.0</td>\n",
              "    </tr>\n",
              "  </tbody>\n",
              "</table>\n",
              "<p>475757 rows × 6 columns</p>\n",
              "</div>"
            ],
            "text/plain": [
              "                     author  num_post  ...  ratio_removed  mean_awards\n",
              "0                   Lansman         1  ...            0.0        571.0\n",
              "1               Greenzone51         1  ...            1.0        431.0\n",
              "2                 Darlink23         1  ...            0.0        334.0\n",
              "3           chubbygroundhog         1  ...            0.0        445.0\n",
              "4           HistoryGuardian         1  ...            0.0        173.0\n",
              "...                     ...       ...  ...            ...          ...\n",
              "475752               zuggra         1  ...            0.0          0.0\n",
              "475753  zuurstok420goodbeer         1  ...            0.0          0.0\n",
              "475754            zwondingo         1  ...            1.0          0.0\n",
              "475755           zzer08ight         1  ...            1.0          0.0\n",
              "475756           zzlgaming1         1  ...            1.0          0.0\n",
              "\n",
              "[475757 rows x 6 columns]"
            ]
          },
          "metadata": {
            "tags": []
          },
          "execution_count": 25
        }
      ]
    },
    {
      "cell_type": "markdown",
      "metadata": {
        "id": "qdFLngntuO6T"
      },
      "source": [
        "We now want to study how many awards will someone get from a post given his history record of followers, score, etc."
      ]
    },
    {
      "cell_type": "code",
      "metadata": {
        "id": "fLBnBUVt7_Ql"
      },
      "source": [
        "# predcite how many awards will an author receive\n",
        "\n",
        "features = data_1_author[['num_post', 'mean_score', 'mean_comms','ratio_removed']]\n",
        "\n",
        "label = data_1_author['mean_awards']\n",
        "\n",
        "# the dataset is toooooo large so I only used part of it, otherwise the grid search will take literaly a year\n",
        "X_train,X_test,y_train,y_test = train_test_split(features,label,test_size=0.1,train_size=0.1, random_state = 0)"
      ],
      "execution_count": null,
      "outputs": []
    },
    {
      "cell_type": "code",
      "metadata": {
        "colab": {
          "base_uri": "https://localhost:8080/"
        },
        "id": "zrQwmR3Qu_TL",
        "outputId": "d84d712a-d209-423c-e4cc-1451360ade28"
      },
      "source": [
        "print(X_train.shape)"
      ],
      "execution_count": null,
      "outputs": [
        {
          "output_type": "stream",
          "text": [
            "(4757, 4)\n"
          ],
          "name": "stdout"
        }
      ]
    },
    {
      "cell_type": "markdown",
      "metadata": {
        "id": "ucbvH-Ndunz3"
      },
      "source": [
        "I used SVR to perform the prediction, and used grid search to find the best set of hyperparameters. This is super time-costy as it took me hours to run."
      ]
    },
    {
      "cell_type": "code",
      "metadata": {
        "colab": {
          "base_uri": "https://localhost:8080/"
        },
        "id": "rQEvcK2n5nJi",
        "outputId": "0283c12a-50a6-422e-e5e6-520db800c34a"
      },
      "source": [
        "from sklearn.svm import SVR\n",
        "from sklearn.model_selection import GridSearchCV\n",
        "\n",
        "model = GridSearchCV(SVR(), param_grid={\"kernel\": (\"linear\", 'rbf', 'sigmoid'), \"C\": np.logspace(-3, 3, 3), \"gamma\": np.logspace(-3, 3, 3)})\n",
        "model.fit(X_train, y_train)\n",
        "\n",
        "y_pre = model.predict(X_test)\n",
        "\n",
        "corr = np.corrcoef(y_pre,y_test)[0,1]\n",
        "\n",
        "print('Correlation coefficients of the prediction and the ground truth:')\n",
        "print(corr)\n",
        "print('The mean square error of the prediction')\n",
        "print(np.sum(np.square(y_pre-y_test))/y_test.shape[0])"
      ],
      "execution_count": null,
      "outputs": [
        {
          "output_type": "stream",
          "text": [
            "Correlation coefficients of the prediction and the ground truth:\n",
            "0.35276220515882833\n",
            "The mean square error of the prediction\n",
            "5.115780427508329\n"
          ],
          "name": "stdout"
        }
      ]
    },
    {
      "cell_type": "markdown",
      "metadata": {
        "id": "uAW5ZsJi8HTF"
      },
      "source": [
        "As we can see, the prediction is to some extent have the same trend with the ground truth, but the correlation coefficients suggests that the result is far from accurate. Here are some of the examples:"
      ]
    },
    {
      "cell_type": "code",
      "metadata": {
        "colab": {
          "base_uri": "https://localhost:8080/"
        },
        "id": "Nl2C9RRm2AAB",
        "outputId": "11d62469-e107-4a29-955d-84e821c6a74a"
      },
      "source": [
        "import random\n",
        "\n",
        "i = 0\n",
        "j = 0\n",
        "while(i+j < 10 and i< 8):\n",
        "  idx = random.randint(0,y_test.shape[0]-1)\n",
        "  if y_test.to_numpy()[idx]> 0:\n",
        "    print('ground truth:', y_test.to_numpy()[idx], 'prediction:', y_pre[idx])\n",
        "    i += 1\n",
        "  elif j<2:\n",
        "    print('ground truth:', y_test.to_numpy()[idx], 'prediction:', y_pre[idx])\n",
        "    j += 1"
      ],
      "execution_count": null,
      "outputs": [
        {
          "output_type": "stream",
          "text": [
            "ground truth: 0.0 prediction: 0.09949781483236242\n",
            "ground truth: 0.0 prediction: 0.0997972033855854\n",
            "ground truth: 0.2727272727272727 prediction: 0.09676724037381179\n",
            "ground truth: 0.3333333333333333 prediction: 0.09910831570566137\n",
            "ground truth: 1.0 prediction: 0.0983391312737667\n",
            "ground truth: 1.0 prediction: 0.0979122713988918\n",
            "ground truth: 0.125 prediction: 0.09776055582568777\n",
            "ground truth: 7.0 prediction: 0.10227396374430375\n",
            "ground truth: 4.0 prediction: 1.6781969902027327\n",
            "ground truth: 1.0 prediction: 0.13819209455963666\n"
          ],
          "name": "stdout"
        }
      ]
    },
    {
      "cell_type": "markdown",
      "metadata": {
        "id": "aOp6ZBTZ-KD7"
      },
      "source": [
        "As we can see, the result is kind of inaccurate, so i looked back into the dataset:"
      ]
    },
    {
      "cell_type": "code",
      "metadata": {
        "colab": {
          "base_uri": "https://localhost:8080/"
        },
        "id": "tlXjMc2D-Uhu",
        "outputId": "05490a8e-ddce-433d-9b9c-25581c3df5ed"
      },
      "source": [
        "import random\n",
        "\n",
        "for i in range(10):\n",
        "  idx = random.randint(0,y_test.shape[0]-1)\n",
        "  print('ground truth:', y_test.to_numpy()[idx], 'prediction:', y_pre[idx])"
      ],
      "execution_count": null,
      "outputs": [
        {
          "output_type": "stream",
          "text": [
            "ground truth: 0.0 prediction: 0.0997972033855854\n",
            "ground truth: 0.0 prediction: 0.0999777372873738\n",
            "ground truth: 0.0 prediction: 0.0999777372873738\n",
            "ground truth: 0.0 prediction: 0.09973950507355456\n",
            "ground truth: 0.0 prediction: 0.09979509538798093\n",
            "ground truth: 0.0 prediction: 0.099893538848419\n",
            "ground truth: 0.0 prediction: 0.0991108486042318\n",
            "ground truth: 0.0 prediction: 0.09966943396921968\n",
            "ground truth: 0.0 prediction: 0.0999777372873738\n",
            "ground truth: 0.0 prediction: 0.09882069887331646\n"
          ],
          "name": "stdout"
        }
      ]
    },
    {
      "cell_type": "markdown",
      "metadata": {
        "id": "1alSuPHB-cqO"
      },
      "source": [
        "It seems that there most authors acutually never got any award, so the data is super inbalance. In this case we manually balanced the data and run the model again."
      ]
    },
    {
      "cell_type": "code",
      "metadata": {
        "colab": {
          "base_uri": "https://localhost:8080/"
        },
        "id": "pGWbwckX-sht",
        "outputId": "170b925d-ad68-4fbc-8afa-a983d03e9287"
      },
      "source": [
        "import random\n",
        "\n",
        "i = 0\n",
        "j = 0\n",
        "idxlist = []\n",
        "\n",
        "X_train,X_test,y_train,y_test = train_test_split(features,label,test_size=0.1,train_size=0.9, random_state = 0)\n",
        "\n",
        "posidx = np.where(y_train.to_numpy()>0)[0]\n",
        "num = posidx.shape[0]\n",
        "\n",
        "print('number of positive examples:', num)\n",
        "\n",
        "# so we select 4000 examples each\n",
        "while(i < 4000 and i< 4000):\n",
        "  idx = random.randint(0,y_train.shape[0]-1)\n",
        "  if y_train.to_numpy()[idx]> 0 and i < 4000 and idx not in idxlist:\n",
        "    idxlist.append(idx)\n",
        "    i += 1\n",
        "  if y_train.to_numpy()[idx]== 0 and j < 4000 and idx not in idxlist:\n",
        "    idxlist.append(idx)\n",
        "    j += 1\n",
        "\n",
        "X_train = X_train.to_numpy()[idxlist]\n",
        "y_train = y_train.to_numpy()[idxlist]"
      ],
      "execution_count": null,
      "outputs": [
        {
          "output_type": "stream",
          "text": [
            "number of positive examples: 4846\n"
          ],
          "name": "stdout"
        }
      ]
    },
    {
      "cell_type": "markdown",
      "metadata": {
        "id": "3eUgoNJU_eRl"
      },
      "source": [
        "Train the model again:"
      ]
    },
    {
      "cell_type": "code",
      "metadata": {
        "colab": {
          "base_uri": "https://localhost:8080/"
        },
        "id": "jUK-dN49_iCb",
        "outputId": "d6d6a6a7-76a7-498f-d611-317e0fd1e145"
      },
      "source": [
        "from sklearn.svm import SVR\n",
        "from sklearn.model_selection import GridSearchCV\n",
        "\n",
        "model = GridSearchCV(SVR(), param_grid={\"kernel\": (\"linear\", 'rbf', 'sigmoid'), \"C\": np.logspace(-3, 3, 3), \"gamma\": np.logspace(-3, 3, 3)})\n",
        "model.fit(X_train, y_train)\n",
        "\n",
        "y_pre = model.predict(X_test)\n",
        "\n",
        "corr = np.corrcoef(y_pre,y_test)[0,1]\n",
        "\n",
        "print('Correlation coefficients of the prediction and the ground truth:')\n",
        "print(corr)\n",
        "print('The mean square error of the prediction')\n",
        "print(np.sum(np.square(y_pre-y_test))/y_test.shape[0])"
      ],
      "execution_count": null,
      "outputs": [
        {
          "output_type": "stream",
          "text": [
            "Correlation coefficients of the prediction and the ground truth:\n",
            "0.5153291542860472\n",
            "The mean square error of the prediction\n",
            "4.039775283566279\n"
          ],
          "name": "stdout"
        }
      ]
    },
    {
      "cell_type": "markdown",
      "metadata": {
        "id": "WlYERLqrBAbB"
      },
      "source": [
        "The result looks much better than it was before the balance."
      ]
    },
    {
      "cell_type": "markdown",
      "metadata": {
        "id": "TeCOJPgHvR-o"
      },
      "source": [
        "And also, I applied linear regression (because its computational cheaper and we are running out of time lol. It tooks hours for us to run a neural net on such a big dataset each time) to predict whether a post will be removed given its score, number of comments, etc. Sigmoid is applied here to make the prediction a valid possibility."
      ]
    },
    {
      "cell_type": "code",
      "metadata": {
        "id": "a8UcZO3kESri",
        "colab": {
          "base_uri": "https://localhost:8080/"
        },
        "outputId": "1df734ff-73a6-40de-b259-25406f3a35df"
      },
      "source": [
        "# logistic regression\n",
        "# predict whether an author's post will be removed (1 for 100 precent, 0 otherwise)\n",
        "\n",
        "from sklearn.linear_model import LinearRegression\n",
        "\n",
        "lr=LinearRegression()\n",
        "lr.fit(X_train,y_train)\n",
        "\n",
        "y_pre=torch.sigmoid(torch.Tensor(lr.predict(X_test)))\n",
        "y_pre = np.array(y_pre)\n",
        "\n",
        "corr = np.corrcoef(y_pre,y_test)[0,1]\n",
        "print('Correlation coefficients of the prediction and the ground truth:')\n",
        "print(corr)\n",
        "print('The mean square error of the prediction')\n",
        "print(np.sum(np.square(y_pre-y_test))/y_test.shape[0])"
      ],
      "execution_count": null,
      "outputs": [
        {
          "output_type": "stream",
          "text": [
            "Correlation coefficients of the prediction and the ground truth:\n",
            "0.1905829102511312\n",
            "The mean square error of the prediction\n",
            "5.503592427776303\n"
          ],
          "name": "stdout"
        }
      ]
    },
    {
      "cell_type": "markdown",
      "metadata": {
        "id": "YYbauzE0BXe2"
      },
      "source": [
        "As we can see, the linear regression model performs poorly even if it is using the same set of data, which suggests that the data has a strong non-linearity "
      ]
    },
    {
      "cell_type": "markdown",
      "metadata": {
        "id": "ocN-5py4vhdl"
      },
      "source": [
        "### **Difficulties**"
      ]
    },
    {
      "cell_type": "markdown",
      "metadata": {
        "id": "jVOCAXc2vgh1"
      },
      "source": [
        "We also tried to extract the information from the titles of dataset 1 and do some exciting thing, such as find the relationship between the keyword frequency (which contains stock name) and the stock prize over time, however as the dataset is overwhelmingly large we find it too time-consuming and computational costy to do predictions with the word frequency of dataset 1. I acutually experienced stack overflow when I tried to apply adaboost on it to predict whether a post will be removed. \n",
        "\n",
        "The following codes are part of the exploration we tried, and we dicied to just leave it this way because of time. Given better computaiton resorce (like colab pro) and one more week, we might be able to do some super exciting thing with it."
      ]
    },
    {
      "cell_type": "code",
      "metadata": {
        "id": "_4sl52n07tTa"
      },
      "source": [
        "X = data_1_not_del['title']\n",
        "\n",
        "vectorizer = TfidfVectorizer(max_df=0.1, min_df=0.0005, stop_words=all_stopwords)\n",
        "features = vectorizer.fit_transform(X)\n",
        "words = vectorizer.get_feature_names()\n",
        "\n",
        "print(words)\n",
        "print(len(words))\n",
        "\n",
        "label = data_1_not_del[['removed']]\n",
        "\n",
        "X_train,X_test,y_train,y_test = train_test_split(features,label,test_size=0.2,train_size=0.8, random_state = 0)\n",
        "\n",
        "del features"
      ],
      "execution_count": null,
      "outputs": []
    },
    {
      "cell_type": "code",
      "metadata": {
        "id": "Zl7LKn9BFBrx"
      },
      "source": [
        "# Adaboost\n",
        "# predict whether a post will be removed (1 for removed, 0 otherwise)\n",
        "# hyperparameter: max_depth, min_samples_split, min_samples_leaf, algorithm, n_estimators, learning_rate\n",
        "\n",
        "bdt = AdaBoostClassifier(DecisionTreeClassifier(max_depth=3, min_samples_split=20, min_samples_leaf=5),\n",
        "                         algorithm=\"SAMME\",\n",
        "                         n_estimators=200, learning_rate=0.8)\n",
        "bdt.fit(X_train, y_train)\n",
        "\n",
        "pred = bdt.predict(X_test)\n",
        "\n",
        "corr = np.corrcoef(y_pre[:,0],y_test)[0,1]\n",
        "print(corr)\n",
        "\n",
        "print(torch.nn.MSELoss(y_pre, y_test))"
      ],
      "execution_count": null,
      "outputs": []
    },
    {
      "cell_type": "markdown",
      "metadata": {
        "id": "Ccoh9ju2zcHt"
      },
      "source": [
        "##**Future Implementation**\n",
        "We wanted to tried out rnn model, which was specilized in analyzing the texts and is believed to give more accurate predictions. However we found it really hard to implement, especially for starters like us. For future implementations, we think rnn would be the correct direction to work on, and it would also be interesting to focus on stock price verses post about stocks over time. "
      ]
    }
  ]
}